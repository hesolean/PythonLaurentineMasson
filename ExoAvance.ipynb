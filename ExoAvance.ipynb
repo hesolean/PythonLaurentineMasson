{
 "cells": [
  {
   "cell_type": "code",
   "execution_count": null,
   "id": "b805b4c3-0e5e-4279-a0e1-f5c1c7b0012b",
   "metadata": {},
   "outputs": [],
   "source": [
    "def isdigit(chaine):\n",
    "    chaine=chaine.split()\n",
    "    for i in range(len(chaine)):\n",
    "        if isdigit(chaine[i]):\n",
    "            return True\n",
    "        else:\n",
    "            return False\n",
    "isdigit(\"12554\")"
   ]
  },
  {
   "cell_type": "code",
   "execution_count": 2,
   "id": "2c652a5f-5928-40c8-8121-c9cb5abefc37",
   "metadata": {},
   "outputs": [
    {
     "data": {
      "text/plain": [
       "True"
      ]
     },
     "execution_count": 2,
     "metadata": {},
     "output_type": "execute_result"
    }
   ],
   "source": [
    "def palindrome(nbr):\n",
    "    result=True\n",
    "    if nbr<=10:\n",
    "        result=False\n",
    "    str_nbr=str(nbr)\n",
    "    for i in range(len(str_nbr)-1):\n",
    "        if str_nbr[i]!=str_nbr[len(str_nbr)-i-1]:\n",
    "            result=False\n",
    "    return result\n",
    "palindrome(101)"
   ]
  },
  {
   "cell_type": "code",
   "execution_count": 4,
   "id": "d11892d9-ec23-4ef0-acbc-52e1d1961056",
   "metadata": {},
   "outputs": [
    {
     "name": "stdout",
     "output_type": "stream",
     "text": [
      "906609\n"
     ]
    }
   ],
   "source": [
    "result=[]\n",
    "for i in range(100,1000):\n",
    "    for j in range(100,1000):\n",
    "        if palindrome(i*j):\n",
    "            result.append((i*j))\n",
    "print(max(result))"
   ]
  },
  {
   "cell_type": "code",
   "execution_count": 19,
   "id": "2f96bc0e-2ba4-4e6f-a019-c5a58e590a2e",
   "metadata": {},
   "outputs": [
    {
     "name": "stdout",
     "output_type": "stream",
     "text": [
      "False\n"
     ]
    }
   ],
   "source": [
    "def estPremier(nbr):\n",
    "    for i in range(2,nbr-1):\n",
    "        if nbr%i==0:\n",
    "            return False\n",
    "        else:\n",
    "            return True\n",
    "def circulPremier(nbr):\n",
    "    str_nbr=str(nbr)\n",
    "    result=True\n",
    "    result=estPremier(nbr)\n",
    "    for i in range(len(str_nbr)):\n",
    "        test=int(str_nbr[i:]+str_nbr[:i])\n",
    "        if not estPremier(test):\n",
    "            result=False\n",
    "    print(result)\n",
    "circulPremier(36)"
   ]
  },
  {
   "cell_type": "code",
   "execution_count": 25,
   "id": "4d635bee-8301-4524-b109-fba5e5f87ae5",
   "metadata": {},
   "outputs": [
    {
     "name": "stdout",
     "output_type": "stream",
     "text": [
      "True\n"
     ]
    }
   ],
   "source": [
    "def estDistinct(nb):\n",
    "    nb=str(nb)\n",
    "    result=False\n",
    "    for i in range(len(nb)-1):\n",
    "        for j in range(i+1,len(nb)):\n",
    "            if nb[i]==nb[j]:\n",
    "                result=True\n",
    "    print(result)\n",
    "estDistinct(9656)"
   ]
  },
  {
   "cell_type": "code",
   "execution_count": 10,
   "id": "9e693e70-32f9-460e-a690-0b56eda42511",
   "metadata": {},
   "outputs": [
    {
     "data": {
      "text/plain": [
       "'669810'"
      ]
     },
     "execution_count": 10,
     "metadata": {},
     "output_type": "execute_result"
    }
   ],
   "source": [
    "def codeSomme(nb):\n",
    "    if nb>=100:\n",
    "        somme=nb\n",
    "        while somme<1 or somme>9:\n",
    "            s_str=str(somme)\n",
    "            somme = 0\n",
    "            for i in s_str:\n",
    "                somme += int(i)\n",
    "    return str(somme)+str(nb)\n",
    "    \n",
    "codeSomme(69810)"
   ]
  },
  {
   "cell_type": "code",
   "execution_count": 1,
   "id": "a9d90f8c-472f-4f30-9d6c-2e391fba264c",
   "metadata": {},
   "outputs": [
    {
     "data": {
      "text/plain": [
       "False"
      ]
     },
     "execution_count": 1,
     "metadata": {},
     "output_type": "execute_result"
    }
   ],
   "source": [
    "def rechercheDichotomie(L,elt):\n",
    "    L.sort()\n",
    "    while L:\n",
    "        mid=len(L)//2\n",
    "        if elt==L[mid]:\n",
    "            return True\n",
    "        elif elt<L[mid]:\n",
    "            L=L[:mid]\n",
    "        else:\n",
    "            L=L[mid+1:]\n",
    "    return False\n",
    "rechercheDichotomie([2,8,3,15,7,1,6,5,17],9)\n",
    "        "
   ]
  },
  {
   "cell_type": "code",
   "execution_count": 2,
   "id": "4b162fc9-36c8-45c8-81e2-6ba4f0596e63",
   "metadata": {},
   "outputs": [
    {
     "name": "stdout",
     "output_type": "stream",
     "text": [
      "Unexpected exception formatting exception. Falling back to standard exception\n"
     ]
    },
    {
     "name": "stderr",
     "output_type": "stream",
     "text": [
      "Traceback (most recent call last):\n",
      "  File \"C:\\Users\\LnD\\Anaconda\\lib\\site-packages\\IPython\\core\\interactiveshell.py\", line 3460, in run_code\n",
      "    exec(code_obj, self.user_global_ns, self.user_ns)\n",
      "  File \"C:\\Users\\LnD\\AppData\\Local\\Temp\\ipykernel_3928\\4260605951.py\", line -1, in <module>\n",
      "KeyboardInterrupt\n",
      "\n",
      "During handling of the above exception, another exception occurred:\n",
      "\n",
      "Traceback (most recent call last):\n",
      "  File \"C:\\Users\\LnD\\Anaconda\\lib\\site-packages\\IPython\\core\\interactiveshell.py\", line 2057, in showtraceback\n",
      "    stb = self.InteractiveTB.structured_traceback(\n",
      "  File \"C:\\Users\\LnD\\Anaconda\\lib\\site-packages\\IPython\\core\\ultratb.py\", line 1118, in structured_traceback\n",
      "    return FormattedTB.structured_traceback(\n",
      "  File \"C:\\Users\\LnD\\Anaconda\\lib\\site-packages\\IPython\\core\\ultratb.py\", line 1012, in structured_traceback\n",
      "    return VerboseTB.structured_traceback(\n",
      "  File \"C:\\Users\\LnD\\Anaconda\\lib\\site-packages\\IPython\\core\\ultratb.py\", line 865, in structured_traceback\n",
      "    formatted_exception = self.format_exception_as_a_whole(etype, evalue, etb, number_of_lines_of_context,\n",
      "  File \"C:\\Users\\LnD\\Anaconda\\lib\\site-packages\\IPython\\core\\ultratb.py\", line 818, in format_exception_as_a_whole\n",
      "    frames.append(self.format_record(r))\n",
      "  File \"C:\\Users\\LnD\\Anaconda\\lib\\site-packages\\IPython\\core\\ultratb.py\", line 736, in format_record\n",
      "    result += ''.join(_format_traceback_lines(frame_info.lines, Colors, self.has_colors, lvals))\n",
      "  File \"C:\\Users\\LnD\\Anaconda\\lib\\site-packages\\stack_data\\utils.py\", line 145, in cached_property_wrapper\n",
      "    value = obj.__dict__[self.func.__name__] = self.func(obj)\n",
      "  File \"C:\\Users\\LnD\\Anaconda\\lib\\site-packages\\stack_data\\core.py\", line 698, in lines\n",
      "    pieces = self.included_pieces\n",
      "  File \"C:\\Users\\LnD\\Anaconda\\lib\\site-packages\\stack_data\\utils.py\", line 145, in cached_property_wrapper\n",
      "    value = obj.__dict__[self.func.__name__] = self.func(obj)\n",
      "  File \"C:\\Users\\LnD\\Anaconda\\lib\\site-packages\\stack_data\\core.py\", line 649, in included_pieces\n",
      "    pos = scope_pieces.index(self.executing_piece)\n",
      "  File \"C:\\Users\\LnD\\Anaconda\\lib\\site-packages\\stack_data\\utils.py\", line 145, in cached_property_wrapper\n",
      "    value = obj.__dict__[self.func.__name__] = self.func(obj)\n",
      "  File \"C:\\Users\\LnD\\Anaconda\\lib\\site-packages\\stack_data\\core.py\", line 628, in executing_piece\n",
      "    return only(\n",
      "  File \"C:\\Users\\LnD\\Anaconda\\lib\\site-packages\\executing\\executing.py\", line 164, in only\n",
      "    raise NotOneValueFound('Expected one value, found 0')\n",
      "executing.executing.NotOneValueFound: Expected one value, found 0\n"
     ]
    }
   ],
   "source": [
    "for x in range(1,1000):\n",
    "    for y in range(x+1,1000):\n",
    "        for z in range(y+1,1000):\n",
    "            if x**2+y**2==z**2:\n",
    "                if x+y+z==1000:\n",
    "                    print(x)\n",
    "                    print(y)\n",
    "                    print(z)\n",
    "                    print(x*z*y)"
   ]
  },
  {
   "cell_type": "code",
   "execution_count": 6,
   "id": "88ec9524-a58f-4449-a11a-a53d695811c6",
   "metadata": {},
   "outputs": [
    {
     "data": {
      "text/plain": [
       "\"Je change de texte et je l'adapte pour exo 87\""
      ]
     },
     "execution_count": 6,
     "metadata": {},
     "output_type": "execute_result"
    }
   ],
   "source": [
    "def trtFichier(cheminFichier):\n",
    "    with open(cheminFichier,'r') as fichier:\n",
    "        contenu=fichier.read()\n",
    "        \n",
    "    nouveauContenu=' '.join(contenu.splitlines())\n",
    "    \n",
    "    with open(r'C:\\Users\\LnD\\Desktop\\Projets info\\Python\\ExoLaurentineMasson\\essai Exo 87.txt','x') as newFichier:\n",
    "        newFichier.write(nouveauContenu)\n",
    "    \n",
    "    with open(r'C:\\Users\\LnD\\Desktop\\Projets info\\Python\\ExoLaurentineMasson\\essai Exo 87.txt','r') as newFichier:\n",
    "        contenu=newFichier.read()\n",
    "    \n",
    "    return contenu\n",
    "trtFichier(r'C:\\Users\\LnD\\Desktop\\Projets info\\Python\\ExoLaurentineMasson\\essai Exo 61.txt')"
   ]
  },
  {
   "cell_type": "code",
   "execution_count": 8,
   "id": "8d34b12e-ef44-4d67-b3c4-16b5da2ea679",
   "metadata": {},
   "outputs": [
    {
     "name": "stdout",
     "output_type": "stream",
     "text": [
      "[2, 4, 4, 5, 8, 36]\n"
     ]
    }
   ],
   "source": [
    "def triCroissant(L):\n",
    "    for i in range(len(L)-1):\n",
    "        for y in range(i,len(L)):\n",
    "            if L[i]>L[y]:\n",
    "                a=L[i]\n",
    "                L[i]=L[y]\n",
    "                L[y]=a\n",
    "    print(L)\n",
    "triCroissant([5,4,36,8,4,2])"
   ]
  },
  {
   "cell_type": "code",
   "execution_count": 19,
   "id": "d59d50ce-0f55-44f0-82ef-930bc000f8b1",
   "metadata": {},
   "outputs": [
    {
     "name": "stdout",
     "output_type": "stream",
     "text": [
      "27.166919271354622\n",
      "normal\n"
     ]
    }
   ],
   "source": [
    "class Personne:\n",
    "    def __init__(self,poids,taille,age):\n",
    "        self.poids=poids\n",
    "        self.taille=taille\n",
    "        self.age=age\n",
    "        \n",
    "    def calculIMC(self):\n",
    "        return self.poids/((self.taille)**2)\n",
    "    \n",
    "    def interpretationIMC(self):\n",
    "        imc=self.calculIMC()\n",
    "        if imc<=18.5:\n",
    "            return \"maigreur\"\n",
    "        elif imc>30:\n",
    "            return \"obèse\"\n",
    "        else:\n",
    "            return \"normal\"\n",
    "        \n",
    "julien=Personne(95,1.87,26)\n",
    "print(julien.calculIMC())\n",
    "print(julien.interpretationIMC())"
   ]
  },
  {
   "cell_type": "code",
   "execution_count": 20,
   "id": "6981273a-17a1-440b-b2aa-eeeda7b387b3",
   "metadata": {},
   "outputs": [
    {
     "data": {
      "text/plain": [
       "150"
      ]
     },
     "execution_count": 20,
     "metadata": {},
     "output_type": "execute_result"
    }
   ],
   "source": [
    "class Rectangle:\n",
    "    def __init__(self,larg,long):\n",
    "        self.larg=larg\n",
    "        self.long=long\n",
    "    \n",
    "    def perim(self):\n",
    "        return 2*self.long+2*self.larg\n",
    "    \n",
    "    def surf(self):\n",
    "        return self.long*self.larg\n",
    "    \n",
    "rectangle1=Rectangle(10,15)\n",
    "rectangle1.larg\n",
    "rectangle1.long\n",
    "rectangle1.perim()\n",
    "rectangle1.surf()"
   ]
  },
  {
   "cell_type": "code",
   "execution_count": 21,
   "id": "c7657e4a-7dd9-4743-8bbc-efb7344d80c9",
   "metadata": {},
   "outputs": [
    {
     "data": {
      "text/plain": [
       "10"
      ]
     },
     "execution_count": 21,
     "metadata": {},
     "output_type": "execute_result"
    }
   ],
   "source": [
    "rectangle1.larg\n"
   ]
  },
  {
   "cell_type": "code",
   "execution_count": 22,
   "id": "9a96ee87-1d9c-4671-b514-38a83b742878",
   "metadata": {},
   "outputs": [
    {
     "data": {
      "text/plain": [
       "15"
      ]
     },
     "execution_count": 22,
     "metadata": {},
     "output_type": "execute_result"
    }
   ],
   "source": [
    "rectangle1.long\n"
   ]
  },
  {
   "cell_type": "code",
   "execution_count": 23,
   "id": "4b04fa14-7685-44b3-9e86-b6b2901e5825",
   "metadata": {},
   "outputs": [
    {
     "data": {
      "text/plain": [
       "50"
      ]
     },
     "execution_count": 23,
     "metadata": {},
     "output_type": "execute_result"
    }
   ],
   "source": [
    "rectangle1.perim()\n"
   ]
  },
  {
   "cell_type": "code",
   "execution_count": 24,
   "id": "ceae8b82-6ec2-4b33-a6c6-ccf05a0c731a",
   "metadata": {},
   "outputs": [
    {
     "data": {
      "text/plain": [
       "150"
      ]
     },
     "execution_count": 24,
     "metadata": {},
     "output_type": "execute_result"
    }
   ],
   "source": [
    "rectangle1.surf()"
   ]
  },
  {
   "cell_type": "code",
   "execution_count": 26,
   "id": "0c2640da-be1e-4e03-bca2-debb9ea40fb9",
   "metadata": {},
   "outputs": [
    {
     "data": {
      "text/plain": [
       "90"
      ]
     },
     "execution_count": 26,
     "metadata": {},
     "output_type": "execute_result"
    }
   ],
   "source": [
    "class Parallelepipede(Rectangle):\n",
    "    def __init__(self,larg,long,haut):\n",
    "        Rectangle.__init__(self,larg,long)\n",
    "        self.haut=haut\n",
    "    \n",
    "    def volume(self):\n",
    "        return Rectangle.surf(self)*self.haut\n",
    "\n",
    "para1=Parallelepipede(9,5,2)\n",
    "para1.volume()"
   ]
  },
  {
   "cell_type": "code",
   "execution_count": 31,
   "id": "f2617394-50af-4737-8998-351164649fe7",
   "metadata": {},
   "outputs": [
    {
     "data": {
      "text/plain": [
       "nom : Julie solde : 400€"
      ]
     },
     "execution_count": 31,
     "metadata": {},
     "output_type": "execute_result"
    }
   ],
   "source": [
    "class CompteBancaire:\n",
    "    def __init__(self,nom=\"Maxime\",solde=600):\n",
    "        self.nom=nom\n",
    "        self.solde=solde\n",
    "    \n",
    "    def depot(self,somme):\n",
    "        self.solde+=somme\n",
    "    \n",
    "    def retrait(self,somme):\n",
    "        self.solde-=somme\n",
    "    \n",
    "    def __repr__(self):\n",
    "        return \"nom : \"+self.nom+\" solde : \"+str(self.solde)+\"€\"\n",
    "        \n",
    "compte1=CompteBancaire(\"Julie\",1000)\n",
    "compte1.depot(400)\n",
    "compte1.retrait(1000)\n",
    "compte1"
   ]
  },
  {
   "cell_type": "code",
   "execution_count": 42,
   "id": "03e58b3a-2982-422c-8111-70d4cb4ab2c6",
   "metadata": {},
   "outputs": [
    {
     "data": {
      "text/plain": [
       "'la peugeot de couleur couleur conduite par Patrick a un kilométrage de 20000'"
      ]
     },
     "execution_count": 42,
     "metadata": {},
     "output_type": "execute_result"
    }
   ],
   "source": [
    "class Voiture:\n",
    "    def __init__(self,marque=\"peugeot\",couleur=\"couleur\",nomConducteur=\"aucun\",kmDebut=16900):\n",
    "        self.marque=marque\n",
    "        self.couleur=couleur\n",
    "        self.nomConducteur=nomConducteur\n",
    "        self.kmDebut=kmDebut\n",
    "    \n",
    "    def choixConducteur(self,nomConducteur):\n",
    "        self.nomConducteur=nomConducteur\n",
    "    \n",
    "    def distanceCirculation(self,kmFin):\n",
    "        dist=kmFin-self.kmDebut\n",
    "        return dist\n",
    "    \n",
    "    def afficherInfo(self,kmFin):\n",
    "        kmActuel=self.kmDebut+Voiture.distanceCirculation(self,kmFin)\n",
    "        return \"la \"+self.marque+\" de couleur \"+self.couleur+\" conduite par \"+self.nomConducteur+\" a un kilométrage de \"+str(kmActuel)\n",
    "voiture=Voiture()\n",
    "voiture.choixConducteur(\"Patrick\")\n",
    "voiture.distanceCirculation(20000)\n",
    "voiture.afficherInfo(20000)"
   ]
  },
  {
   "cell_type": "code",
   "execution_count": 2,
   "id": "bdea5f3f-66fc-41d3-8d63-eedb0e74edc5",
   "metadata": {},
   "outputs": [
    {
     "data": {
      "text/plain": [
       "(2, -2)"
      ]
     },
     "execution_count": 2,
     "metadata": {},
     "output_type": "execute_result"
    }
   ],
   "source": [
    "class Point2D:\n",
    "    def __init__(self,x,y):\n",
    "        self.x=x\n",
    "        self.y=y\n",
    "    \n",
    "    def __add__(self,p):\n",
    "        newX=self.x+p.x\n",
    "        newY=self.y+p.y\n",
    "        return newX, newY\n",
    "    def __sub__(self,p):\n",
    "        newX=self.x-p.x\n",
    "        newY=self.y-p.y\n",
    "        return newX, newY\n",
    "    def __mul__(self,p):\n",
    "        newX=self.x*p.x\n",
    "        newY=self.y*p.y\n",
    "        return newX, newY\n",
    "    def __truediv__(self,p):\n",
    "        newX=self.x/p.x\n",
    "        newY=self.y/p.y\n",
    "        return newX, newY\n",
    "p1=Point2D(3,2)\n",
    "p2=Point2D(1,4)\n",
    "p1-p2"
   ]
  },
  {
   "cell_type": "code",
   "execution_count": 44,
   "id": "59c3a9a1-683d-4ac6-8e48-ff8b0751b551",
   "metadata": {},
   "outputs": [
    {
     "data": {
      "text/plain": [
       "(4, 6)"
      ]
     },
     "execution_count": 44,
     "metadata": {},
     "output_type": "execute_result"
    }
   ],
   "source": [
    "p1+p2"
   ]
  },
  {
   "cell_type": "code",
   "execution_count": 3,
   "id": "609558b8-67fc-4834-be96-2f17d894c5d9",
   "metadata": {},
   "outputs": [
    {
     "data": {
      "text/plain": [
       "(3.0, 0.5)"
      ]
     },
     "execution_count": 3,
     "metadata": {},
     "output_type": "execute_result"
    }
   ],
   "source": [
    "p1/p2"
   ]
  },
  {
   "cell_type": "code",
   "execution_count": 5,
   "id": "d94926b2-0272-4b5b-b494-3196d8c0f8d5",
   "metadata": {},
   "outputs": [
    {
     "data": {
      "text/plain": [
       "2 + 7i"
      ]
     },
     "execution_count": 5,
     "metadata": {},
     "output_type": "execute_result"
    }
   ],
   "source": [
    "class NombreComplexe:\n",
    "    def __init__(self,reel,img):\n",
    "        self.reel=reel\n",
    "        self.img=img\n",
    "        \n",
    "    def __str__(self):\n",
    "        return str(self.reel)+\" + \"+str(self.img)+\"i\"\n",
    "    \n",
    "    def __repr__(self):\n",
    "        return  str(self.reel)+\" + \"+str(self.img)+\"i\"\n",
    "nb=NombreComplexe(2,7)\n",
    "nb"
   ]
  },
  {
   "cell_type": "code",
   "execution_count": 6,
   "id": "4999fbb9-7ac3-4a5b-9dea-d01f18c39e8f",
   "metadata": {},
   "outputs": [
    {
     "name": "stdout",
     "output_type": "stream",
     "text": [
      "2 + 7i\n"
     ]
    }
   ],
   "source": [
    "print(nb)"
   ]
  },
  {
   "cell_type": "code",
   "execution_count": 18,
   "id": "a942d91b-ac09-4bc9-a812-b05a98921ea8",
   "metadata": {},
   "outputs": [
    {
     "name": "stdout",
     "output_type": "stream",
     "text": [
      "[5, 2, 3, 7, 9]\n"
     ]
    }
   ],
   "source": [
    "class ListePerso:\n",
    "    def __init__(self,*nbs):\n",
    "        self.nbs=[]\n",
    "        for nb in nbs:\n",
    "            self.nbs.append(nb)\n",
    "    def append(self,val):\n",
    "        if type(val)==int or type(val)==float:\n",
    "            if val not in self.nbs:\n",
    "                self.nbs.append(val)\n",
    "            else:\n",
    "                return f\"la valeur {val} est déjà dans la liste {self}\"\n",
    "        else:\n",
    "            return f\"opération interdite : il n'est pas autorisé d'ajouter le type {type(val)} dans la liste\"\n",
    "            \n",
    "    def __str__(self):\n",
    "        return f\"{self.nbs}\"\n",
    "    def __repr__(self):\n",
    "        return f\"{self.nbs}\"\n",
    "L=ListePerso(5,2,3,7,9)\n",
    "print(L)"
   ]
  },
  {
   "cell_type": "code",
   "execution_count": 19,
   "id": "37b458a8-d78a-4136-8fc3-ed6e5ed23974",
   "metadata": {},
   "outputs": [
    {
     "data": {
      "text/plain": [
       "'la valeur 2 est déjà dans la liste [5, 2, 3, 7, 9]'"
      ]
     },
     "execution_count": 19,
     "metadata": {},
     "output_type": "execute_result"
    }
   ],
   "source": [
    "L.append(2)"
   ]
  },
  {
   "cell_type": "code",
   "execution_count": 20,
   "id": "e334df26-d3d2-4682-a2e9-a94e6d6c581c",
   "metadata": {},
   "outputs": [
    {
     "data": {
      "text/plain": [
       "\"opération interdite : il n'est pas autorisé d'ajouter le type <class 'str'> dans la liste\""
      ]
     },
     "execution_count": 20,
     "metadata": {},
     "output_type": "execute_result"
    }
   ],
   "source": [
    "L.append(\"abc\")"
   ]
  },
  {
   "cell_type": "code",
   "execution_count": 21,
   "id": "c7673cb1-84f7-4502-b105-ffa16e916d39",
   "metadata": {},
   "outputs": [],
   "source": [
    "L.append(10)"
   ]
  },
  {
   "cell_type": "code",
   "execution_count": 22,
   "id": "749d3373-6597-487d-8374-3fff3c6b5299",
   "metadata": {},
   "outputs": [
    {
     "name": "stdout",
     "output_type": "stream",
     "text": [
      "[5, 2, 3, 7, 9, 10]\n"
     ]
    }
   ],
   "source": [
    "print(L)"
   ]
  },
  {
   "cell_type": "code",
   "execution_count": null,
   "id": "c0d38fe1-3535-4467-8021-e10b4aa60017",
   "metadata": {},
   "outputs": [],
   "source": []
  }
 ],
 "metadata": {
  "kernelspec": {
   "display_name": "Python 3 (ipykernel)",
   "language": "python",
   "name": "python3"
  },
  "language_info": {
   "codemirror_mode": {
    "name": "ipython",
    "version": 3
   },
   "file_extension": ".py",
   "mimetype": "text/x-python",
   "name": "python",
   "nbconvert_exporter": "python",
   "pygments_lexer": "ipython3",
   "version": "3.10.9"
  }
 },
 "nbformat": 4,
 "nbformat_minor": 5
}
