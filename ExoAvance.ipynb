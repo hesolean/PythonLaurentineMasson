{
 "cells": [
  {
   "cell_type": "code",
   "execution_count": null,
   "id": "b805b4c3-0e5e-4279-a0e1-f5c1c7b0012b",
   "metadata": {},
   "outputs": [],
   "source": [
    "def isdigit(chaine):\n",
    "    chaine=chaine.split()\n",
    "    for i in range(len(chaine)):\n",
    "        if isdigit(chaine[i]):\n",
    "            return True\n",
    "        else:\n",
    "            return False\n",
    "isdigit(\"12554\")"
   ]
  },
  {
   "cell_type": "code",
   "execution_count": null,
   "id": "2c652a5f-5928-40c8-8121-c9cb5abefc37",
   "metadata": {},
   "outputs": [],
   "source": []
  }
 ],
 "metadata": {
  "kernelspec": {
   "display_name": "Python 3 (ipykernel)",
   "language": "python",
   "name": "python3"
  },
  "language_info": {
   "codemirror_mode": {
    "name": "ipython",
    "version": 3
   },
   "file_extension": ".py",
   "mimetype": "text/x-python",
   "name": "python",
   "nbconvert_exporter": "python",
   "pygments_lexer": "ipython3",
   "version": "3.10.9"
  }
 },
 "nbformat": 4,
 "nbformat_minor": 5
}
