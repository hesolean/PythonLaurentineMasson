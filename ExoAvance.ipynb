{
 "cells": [
  {
   "cell_type": "code",
   "execution_count": null,
   "id": "b805b4c3-0e5e-4279-a0e1-f5c1c7b0012b",
   "metadata": {},
   "outputs": [],
   "source": [
    "def isdigit(chaine):\n",
    "    chaine=chaine.split()\n",
    "    for i in range(len(chaine)):\n",
    "        if isdigit(chaine[i]):\n",
    "            return True\n",
    "        else:\n",
    "            return False\n",
    "isdigit(\"12554\")"
   ]
  },
  {
   "cell_type": "code",
   "execution_count": 2,
   "id": "2c652a5f-5928-40c8-8121-c9cb5abefc37",
   "metadata": {},
   "outputs": [
    {
     "data": {
      "text/plain": [
       "True"
      ]
     },
     "execution_count": 2,
     "metadata": {},
     "output_type": "execute_result"
    }
   ],
   "source": [
    "def palindrome(nbr):\n",
    "    result=True\n",
    "    if nbr<=10:\n",
    "        result=False\n",
    "    str_nbr=str(nbr)\n",
    "    for i in range(len(str_nbr)-1):\n",
    "        if str_nbr[i]!=str_nbr[len(str_nbr)-i-1]:\n",
    "            result=False\n",
    "    return result\n",
    "palindrome(101)"
   ]
  },
  {
   "cell_type": "code",
   "execution_count": 4,
   "id": "d11892d9-ec23-4ef0-acbc-52e1d1961056",
   "metadata": {},
   "outputs": [
    {
     "name": "stdout",
     "output_type": "stream",
     "text": [
      "906609\n"
     ]
    }
   ],
   "source": [
    "result=[]\n",
    "for i in range(100,1000):\n",
    "    for j in range(100,1000):\n",
    "        if palindrome(i*j):\n",
    "            result.append((i*j))\n",
    "print(max(result))"
   ]
  },
  {
   "cell_type": "code",
   "execution_count": 19,
   "id": "2f96bc0e-2ba4-4e6f-a019-c5a58e590a2e",
   "metadata": {},
   "outputs": [
    {
     "name": "stdout",
     "output_type": "stream",
     "text": [
      "False\n"
     ]
    }
   ],
   "source": [
    "def estPremier(nbr):\n",
    "    for i in range(2,nbr-1):\n",
    "        if nbr%i==0:\n",
    "            return False\n",
    "        else:\n",
    "            return True\n",
    "def circulPremier(nbr):\n",
    "    str_nbr=str(nbr)\n",
    "    result=True\n",
    "    result=estPremier(nbr)\n",
    "    for i in range(len(str_nbr)):\n",
    "        test=int(str_nbr[i:]+str_nbr[:i])\n",
    "        if not estPremier(test):\n",
    "            result=False\n",
    "    print(result)\n",
    "circulPremier(36)"
   ]
  },
  {
   "cell_type": "code",
   "execution_count": 25,
   "id": "4d635bee-8301-4524-b109-fba5e5f87ae5",
   "metadata": {},
   "outputs": [
    {
     "name": "stdout",
     "output_type": "stream",
     "text": [
      "True\n"
     ]
    }
   ],
   "source": [
    "def estDistinct(nb):\n",
    "    nb=str(nb)\n",
    "    result=False\n",
    "    for i in range(len(nb)-1):\n",
    "        for j in range(i+1,len(nb)):\n",
    "            if nb[i]==nb[j]:\n",
    "                result=True\n",
    "    print(result)\n",
    "estDistinct(9656)"
   ]
  },
  {
   "cell_type": "code",
   "execution_count": 10,
   "id": "9e693e70-32f9-460e-a690-0b56eda42511",
   "metadata": {},
   "outputs": [
    {
     "data": {
      "text/plain": [
       "'669810'"
      ]
     },
     "execution_count": 10,
     "metadata": {},
     "output_type": "execute_result"
    }
   ],
   "source": [
    "def codeSomme(nb):\n",
    "    if nb>=100:\n",
    "        somme=nb\n",
    "        while somme<1 or somme>9:\n",
    "            s_str=str(somme)\n",
    "            somme = 0\n",
    "            for i in s_str:\n",
    "                somme += int(i)\n",
    "    return str(somme)+str(nb)\n",
    "    \n",
    "codeSomme(69810)"
   ]
  },
  {
   "cell_type": "code",
   "execution_count": 1,
   "id": "a9d90f8c-472f-4f30-9d6c-2e391fba264c",
   "metadata": {},
   "outputs": [
    {
     "data": {
      "text/plain": [
       "False"
      ]
     },
     "execution_count": 1,
     "metadata": {},
     "output_type": "execute_result"
    }
   ],
   "source": [
    "def rechercheDichotomie(L,elt):\n",
    "    L.sort()\n",
    "    while L:\n",
    "        mid=len(L)//2\n",
    "        if elt==L[mid]:\n",
    "            return True\n",
    "        elif elt<L[mid]:\n",
    "            L=L[:mid]\n",
    "        else:\n",
    "            L=L[mid+1:]\n",
    "    return False\n",
    "rechercheDichotomie([2,8,3,15,7,1,6,5,17],9)\n",
    "        "
   ]
  },
  {
   "cell_type": "code",
   "execution_count": 2,
   "id": "4b162fc9-36c8-45c8-81e2-6ba4f0596e63",
   "metadata": {},
   "outputs": [
    {
     "name": "stdout",
     "output_type": "stream",
     "text": [
      "Unexpected exception formatting exception. Falling back to standard exception\n"
     ]
    },
    {
     "name": "stderr",
     "output_type": "stream",
     "text": [
      "Traceback (most recent call last):\n",
      "  File \"C:\\Users\\LnD\\Anaconda\\lib\\site-packages\\IPython\\core\\interactiveshell.py\", line 3460, in run_code\n",
      "    exec(code_obj, self.user_global_ns, self.user_ns)\n",
      "  File \"C:\\Users\\LnD\\AppData\\Local\\Temp\\ipykernel_3928\\4260605951.py\", line -1, in <module>\n",
      "KeyboardInterrupt\n",
      "\n",
      "During handling of the above exception, another exception occurred:\n",
      "\n",
      "Traceback (most recent call last):\n",
      "  File \"C:\\Users\\LnD\\Anaconda\\lib\\site-packages\\IPython\\core\\interactiveshell.py\", line 2057, in showtraceback\n",
      "    stb = self.InteractiveTB.structured_traceback(\n",
      "  File \"C:\\Users\\LnD\\Anaconda\\lib\\site-packages\\IPython\\core\\ultratb.py\", line 1118, in structured_traceback\n",
      "    return FormattedTB.structured_traceback(\n",
      "  File \"C:\\Users\\LnD\\Anaconda\\lib\\site-packages\\IPython\\core\\ultratb.py\", line 1012, in structured_traceback\n",
      "    return VerboseTB.structured_traceback(\n",
      "  File \"C:\\Users\\LnD\\Anaconda\\lib\\site-packages\\IPython\\core\\ultratb.py\", line 865, in structured_traceback\n",
      "    formatted_exception = self.format_exception_as_a_whole(etype, evalue, etb, number_of_lines_of_context,\n",
      "  File \"C:\\Users\\LnD\\Anaconda\\lib\\site-packages\\IPython\\core\\ultratb.py\", line 818, in format_exception_as_a_whole\n",
      "    frames.append(self.format_record(r))\n",
      "  File \"C:\\Users\\LnD\\Anaconda\\lib\\site-packages\\IPython\\core\\ultratb.py\", line 736, in format_record\n",
      "    result += ''.join(_format_traceback_lines(frame_info.lines, Colors, self.has_colors, lvals))\n",
      "  File \"C:\\Users\\LnD\\Anaconda\\lib\\site-packages\\stack_data\\utils.py\", line 145, in cached_property_wrapper\n",
      "    value = obj.__dict__[self.func.__name__] = self.func(obj)\n",
      "  File \"C:\\Users\\LnD\\Anaconda\\lib\\site-packages\\stack_data\\core.py\", line 698, in lines\n",
      "    pieces = self.included_pieces\n",
      "  File \"C:\\Users\\LnD\\Anaconda\\lib\\site-packages\\stack_data\\utils.py\", line 145, in cached_property_wrapper\n",
      "    value = obj.__dict__[self.func.__name__] = self.func(obj)\n",
      "  File \"C:\\Users\\LnD\\Anaconda\\lib\\site-packages\\stack_data\\core.py\", line 649, in included_pieces\n",
      "    pos = scope_pieces.index(self.executing_piece)\n",
      "  File \"C:\\Users\\LnD\\Anaconda\\lib\\site-packages\\stack_data\\utils.py\", line 145, in cached_property_wrapper\n",
      "    value = obj.__dict__[self.func.__name__] = self.func(obj)\n",
      "  File \"C:\\Users\\LnD\\Anaconda\\lib\\site-packages\\stack_data\\core.py\", line 628, in executing_piece\n",
      "    return only(\n",
      "  File \"C:\\Users\\LnD\\Anaconda\\lib\\site-packages\\executing\\executing.py\", line 164, in only\n",
      "    raise NotOneValueFound('Expected one value, found 0')\n",
      "executing.executing.NotOneValueFound: Expected one value, found 0\n"
     ]
    }
   ],
   "source": [
    "for x in range(1,1000):\n",
    "    for y in range(x+1,1000):\n",
    "        for z in range(y+1,1000):\n",
    "            if x**2+y**2==z**2:\n",
    "                if x+y+z==1000:\n",
    "                    print(x)\n",
    "                    print(y)\n",
    "                    print(z)\n",
    "                    print(x*z*y)"
   ]
  },
  {
   "cell_type": "code",
   "execution_count": 6,
   "id": "88ec9524-a58f-4449-a11a-a53d695811c6",
   "metadata": {},
   "outputs": [
    {
     "data": {
      "text/plain": [
       "\"Je change de texte et je l'adapte pour exo 87\""
      ]
     },
     "execution_count": 6,
     "metadata": {},
     "output_type": "execute_result"
    }
   ],
   "source": [
    "def trtFichier(cheminFichier):\n",
    "    with open(cheminFichier,'r') as fichier:\n",
    "        contenu=fichier.read()\n",
    "        \n",
    "    nouveauContenu=' '.join(contenu.splitlines())\n",
    "    \n",
    "    with open(r'C:\\Users\\LnD\\Desktop\\Projets info\\Python\\ExoLaurentineMasson\\essai Exo 87.txt','x') as newFichier:\n",
    "        newFichier.write(nouveauContenu)\n",
    "    \n",
    "    with open(r'C:\\Users\\LnD\\Desktop\\Projets info\\Python\\ExoLaurentineMasson\\essai Exo 87.txt','r') as newFichier:\n",
    "        contenu=newFichier.read()\n",
    "    \n",
    "    return contenu\n",
    "trtFichier(r'C:\\Users\\LnD\\Desktop\\Projets info\\Python\\ExoLaurentineMasson\\essai Exo 61.txt')"
   ]
  },
  {
   "cell_type": "code",
   "execution_count": 8,
   "id": "8d34b12e-ef44-4d67-b3c4-16b5da2ea679",
   "metadata": {},
   "outputs": [
    {
     "name": "stdout",
     "output_type": "stream",
     "text": [
      "[2, 4, 4, 5, 8, 36]\n"
     ]
    }
   ],
   "source": [
    "def triCroissant(L):\n",
    "    for i in range(len(L)-1):\n",
    "        for y in range(i,len(L)):\n",
    "            if L[i]>L[y]:\n",
    "                a=L[i]\n",
    "                L[i]=L[y]\n",
    "                L[y]=a\n",
    "    print(L)\n",
    "triCroissant([5,4,36,8,4,2])"
   ]
  },
  {
   "cell_type": "code",
   "execution_count": 17,
   "id": "d59d50ce-0f55-44f0-82ef-930bc000f8b1",
   "metadata": {},
   "outputs": [
    {
     "name": "stdout",
     "output_type": "stream",
     "text": [
      "poids 1.87\n",
      "taille 95\n",
      "9025\n",
      "0.000207202216066482\n",
      "poids 1.87\n",
      "taille 95\n",
      "9025\n",
      "maigreur\n"
     ]
    }
   ],
   "source": [
    "class Personne:\n",
    "    def __init__(self,poids,taille,age):\n",
    "        self.poids=poids\n",
    "        self.taille=taille\n",
    "        self.age=age\n",
    "        \n",
    "    def calculIMC(self):\n",
    "        print(\"poids\", self.poids)\n",
    "        print(\"taille\", self.taille)\n",
    "        print(self.taille**2)\n",
    "        return self.poids/(self.taille**2)\n",
    "    \n",
    "    def interpretationIMC(self):\n",
    "        imc=self.calculIMC()\n",
    "        if imc<=18.5:\n",
    "            return \"maigreur\"\n",
    "        elif imc>30:\n",
    "            return \"obèse\"\n",
    "        else:\n",
    "            return \"normal\"\n",
    "        \n",
    "julien=Personne(1.87,95,26)\n",
    "print(julien.calculIMC())\n",
    "print(julien.interpretationIMC())"
   ]
  },
  {
   "cell_type": "code",
   "execution_count": null,
   "id": "6981273a-17a1-440b-b2aa-eeeda7b387b3",
   "metadata": {},
   "outputs": [],
   "source": []
  }
 ],
 "metadata": {
  "kernelspec": {
   "display_name": "Python 3 (ipykernel)",
   "language": "python",
   "name": "python3"
  },
  "language_info": {
   "codemirror_mode": {
    "name": "ipython",
    "version": 3
   },
   "file_extension": ".py",
   "mimetype": "text/x-python",
   "name": "python",
   "nbconvert_exporter": "python",
   "pygments_lexer": "ipython3",
   "version": "3.10.9"
  }
 },
 "nbformat": 4,
 "nbformat_minor": 5
}
