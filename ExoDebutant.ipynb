{
 "cells": [
  {
   "cell_type": "code",
   "execution_count": 1,
   "id": "6e4d0aa9-37da-40b0-975e-c2fcaea4ed74",
   "metadata": {},
   "outputs": [
    {
     "name": "stdout",
     "output_type": "stream",
     "text": [
      "1 France 36.2\n"
     ]
    }
   ],
   "source": [
    "a = 1\n",
    "b = \"France\"\n",
    "c = 36.2\n",
    "print(a,b,c)"
   ]
  },
  {
   "cell_type": "code",
   "execution_count": 2,
   "id": "8200b983-567c-4b8c-8584-f41e788007d7",
   "metadata": {},
   "outputs": [
    {
     "name": "stdout",
     "output_type": "stream",
     "text": [
      "Salut\n",
      "Ca va\n"
     ]
    }
   ],
   "source": [
    "ch = \"Salut\"\n",
    "print(ch)\n",
    "ch = \"Ca va\"\n",
    "print(ch)"
   ]
  },
  {
   "cell_type": "code",
   "execution_count": 3,
   "id": "1894d4cf-1fa0-4a9c-84de-bc8695ab0b0b",
   "metadata": {},
   "outputs": [
    {
     "name": "stdout",
     "output_type": "stream",
     "text": [
      "type de variable de x :  <class 'int'>\n",
      "type de variable de y :  <class 'float'>\n",
      "type de variable de x_str :  <class 'str'>\n",
      "type de variable de y_str :  <class 'str'>\n"
     ]
    }
   ],
   "source": [
    "x = 3\n",
    "y = 8.5\n",
    "x_str = str(x)\n",
    "y_str = f'{y}'\n",
    "print('type de variable de x : ', type(x))\n",
    "print('type de variable de y : ', type(y))\n",
    "print('type de variable de x_str : ', type(x_str))\n",
    "print('type de variable de y_str : ', type(y_str))"
   ]
  },
  {
   "cell_type": "code",
   "execution_count": 5,
   "id": "85682310-c324-4509-9e4a-61667fd366a7",
   "metadata": {},
   "outputs": [
    {
     "name": "stdin",
     "output_type": "stream",
     "text": [
      "Entrez votre poids :  65\n"
     ]
    },
    {
     "name": "stdout",
     "output_type": "stream",
     "text": [
      "Votre poids est de  65  kg\n"
     ]
    }
   ],
   "source": [
    "poids = input('Entrez votre poids : ')\n",
    "print('Votre poids est de ', poids, ' kg')"
   ]
  },
  {
   "cell_type": "code",
   "execution_count": 7,
   "id": "a1f43047-9c21-4f9d-816f-6a26da2d2789",
   "metadata": {},
   "outputs": [
    {
     "name": "stdout",
     "output_type": "stream",
     "text": [
      "var est une chaine de caractères\n"
     ]
    }
   ],
   "source": [
    "var = \"Bonjour\"\n",
    "if type(var) == int:\n",
    "    print(\"var est un entier\")\n",
    "else:\n",
    "    print(\"var est une chaine de caractères\")"
   ]
  },
  {
   "cell_type": "code",
   "execution_count": 8,
   "id": "7ae63210-10b0-4b70-bd70-f9cb579c237b",
   "metadata": {},
   "outputs": [
    {
     "name": "stdout",
     "output_type": "stream",
     "text": [
      "d est positif\n"
     ]
    }
   ],
   "source": [
    "d = 5\n",
    "if d >= 0:\n",
    "    print(\"d est positif\")\n",
    "else:\n",
    "    print(\"d est négatif\")"
   ]
  },
  {
   "cell_type": "code",
   "execution_count": 12,
   "id": "9fa2f8e3-fdbe-4103-8061-0422c5a624c4",
   "metadata": {},
   "outputs": [
    {
     "name": "stdin",
     "output_type": "stream",
     "text": [
      "Quel est votre age ? 48\n"
     ]
    },
    {
     "name": "stdout",
     "output_type": "stream",
     "text": [
      "Vous êtes majeur\n"
     ]
    }
   ],
   "source": [
    "age = input(\"Quel est votre age ?\")\n",
    "age = int(age)\n",
    "if age >= 18:\n",
    "    print(\"Vous êtes majeur\")\n",
    "else:\n",
    "    print(\"Vous êtes mineur\")"
   ]
  },
  {
   "cell_type": "code",
   "execution_count": 14,
   "id": "a4f2bbc0-4fc7-421f-bebb-f108cd243f8f",
   "metadata": {},
   "outputs": [
    {
     "name": "stdout",
     "output_type": "stream",
     "text": [
      "1\n",
      "2\n",
      "3\n",
      "4\n",
      "5\n",
      "6\n",
      "7\n",
      "8\n",
      "9\n",
      "10\n",
      "11\n",
      "12\n",
      "13\n",
      "14\n",
      "15\n",
      "16\n",
      "17\n",
      "18\n",
      "19\n",
      "20\n"
     ]
    }
   ],
   "source": [
    "for i in range(1,21):\n",
    "    print(i)"
   ]
  },
  {
   "cell_type": "code",
   "execution_count": 16,
   "id": "097d3472-4e54-489b-aa10-bdb72ed5899b",
   "metadata": {},
   "outputs": [
    {
     "name": "stdout",
     "output_type": "stream",
     "text": [
      "1\n",
      "2\n",
      "3\n",
      "4\n",
      "5\n",
      "6\n",
      "7\n",
      "8\n",
      "9\n",
      "10\n",
      "11\n",
      "12\n",
      "13\n",
      "14\n",
      "15\n",
      "16\n",
      "17\n",
      "18\n",
      "19\n",
      "20\n"
     ]
    }
   ],
   "source": [
    "j=1\n",
    "while j<=20:\n",
    "    print(j)\n",
    "    j+=1"
   ]
  },
  {
   "cell_type": "code",
   "execution_count": 18,
   "id": "59b21787-46ab-479c-99a5-ca5a71507e0e",
   "metadata": {},
   "outputs": [
    {
     "name": "stdout",
     "output_type": "stream",
     "text": [
      "10\n",
      "12\n",
      "14\n",
      "16\n",
      "18\n",
      "20\n"
     ]
    }
   ],
   "source": [
    "for i in range(10,21):\n",
    "    if i%2==0:\n",
    "        print(i)\n",
    "    "
   ]
  },
  {
   "cell_type": "code",
   "execution_count": 20,
   "id": "4120f456-5211-420d-8522-226bfa72eaea",
   "metadata": {},
   "outputs": [
    {
     "name": "stdout",
     "output_type": "stream",
     "text": [
      "[1, 2, 3, 4, 5, 6, 7, 8, 9, 10]\n"
     ]
    }
   ],
   "source": [
    "new_list = [x for x in range(1,11)]\n",
    "print(new_list)"
   ]
  },
  {
   "cell_type": "code",
   "execution_count": 22,
   "id": "be256673-bb90-43f0-a06e-b5f2d298e865",
   "metadata": {},
   "outputs": [
    {
     "name": "stdout",
     "output_type": "stream",
     "text": [
      "[2, 4, 6, 8, 10]\n"
     ]
    }
   ],
   "source": [
    "pair_list = [x for x in range(1,11) if x%2==0]\n",
    "print(pair_list)"
   ]
  },
  {
   "cell_type": "code",
   "execution_count": 24,
   "id": "e71302e6-cefd-4fb3-9646-7be021ec850b",
   "metadata": {},
   "outputs": [
    {
     "name": "stdout",
     "output_type": "stream",
     "text": [
      "[1, 2, 3, 4, 6, 8, 9.2, 12]\n"
     ]
    }
   ],
   "source": [
    "list = [6,8,3,4,1,12,2,9.2]\n",
    "list.sort()\n",
    "print(list)"
   ]
  },
  {
   "cell_type": "code",
   "execution_count": 25,
   "id": "88059c51-2302-4620-9a22-8d79e24265b7",
   "metadata": {},
   "outputs": [
    {
     "data": {
      "text/plain": [
       "2"
      ]
     },
     "execution_count": 25,
     "metadata": {},
     "output_type": "execute_result"
    }
   ],
   "source": [
    "list = [3,2,2,1,9,1,2,3,7]\n",
    "list.count(1)"
   ]
  },
  {
   "cell_type": "code",
   "execution_count": 27,
   "id": "533878ec-a523-4ba0-9977-2c89f8d3202f",
   "metadata": {},
   "outputs": [
    {
     "name": "stdout",
     "output_type": "stream",
     "text": [
      "[10, 25, 30, 45, 90, 'ab', 'cd']\n"
     ]
    }
   ],
   "source": [
    "L = []\n",
    "list = [10,25,30,45,90,\"ab\",\"cd\"]\n",
    "for i in list:\n",
    "    L.append(i)\n",
    "print(L)"
   ]
  },
  {
   "cell_type": "code",
   "execution_count": 32,
   "id": "057a726c-ed00-4614-a33b-d42d4eac9812",
   "metadata": {},
   "outputs": [
    {
     "name": "stdout",
     "output_type": "stream",
     "text": [
      "[1, 4, 7, 10]\n"
     ]
    }
   ],
   "source": [
    "L = range(1,11)\n",
    "L1 = []\n",
    "for x in range(len(L)):\n",
    "    if x%3==0:\n",
    "        L1.append(L[x])\n",
    "print(L1)"
   ]
  },
  {
   "cell_type": "code",
   "execution_count": 42,
   "id": "bef1c92d-d15e-4f49-91c1-0191adbcee34",
   "metadata": {},
   "outputs": [
    {
     "name": "stdout",
     "output_type": "stream",
     "text": [
      "['a', 'c', 'e', 'f', 'n', 'r']\n",
      "acefnr\n"
     ]
    }
   ],
   "source": [
    "c = \"france\"\n",
    "c = sorted(c)\n",
    "print(c)\n",
    "c = \"\".join(c)\n",
    "print(c)"
   ]
  },
  {
   "cell_type": "code",
   "execution_count": 44,
   "id": "c5617a86-c07f-4da5-8230-8545fd2f0e0e",
   "metadata": {},
   "outputs": [
    {
     "name": "stdout",
     "output_type": "stream",
     "text": [
      "[9, 3, 'p', 'b']\n"
     ]
    }
   ],
   "source": [
    "L1=[9,8,7,14,3,2,\"a\",\"p\",\"bonjour\",\"b\"]\n",
    "L2=[\"b\",1,9.2,6,3,9,\"p\"]\n",
    "L3=[]\n",
    "for x in L1:\n",
    "    if x in L2:\n",
    "        L3.append(x)\n",
    "print(L3)"
   ]
  },
  {
   "cell_type": "code",
   "execution_count": 46,
   "id": "e75bcfdd-121f-45d1-8160-978e31736758",
   "metadata": {},
   "outputs": [
    {
     "data": {
      "text/plain": [
       "[('peche', 2), ('banane', 8), ('kiwi', 9), ('fraise', 12), ('pomme', 15)]"
      ]
     },
     "execution_count": 46,
     "metadata": {},
     "output_type": "execute_result"
    }
   ],
   "source": [
    "L=[(\"pomme\",15),(\"banane\",8),(\"fraise\",12),(\"kiwi\",9),(\"peche\",2)]\n",
    "sorted(L, key=lambda nbr:nbr[1])"
   ]
  },
  {
   "cell_type": "code",
   "execution_count": 52,
   "id": "d8f75a86-74fd-4746-8cb6-9aa7d6dd0953",
   "metadata": {},
   "outputs": [
    {
     "name": "stdout",
     "output_type": "stream",
     "text": [
      "ednom el tuot ruojnoB\n"
     ]
    }
   ],
   "source": [
    "ch=\"Bonjour tout le monde\"\n",
    "ch=ch[::-1]\n",
    "print(ch)"
   ]
  },
  {
   "cell_type": "code",
   "execution_count": 57,
   "id": "13bc6b1f-484d-4ea2-80d6-4987e11e77a8",
   "metadata": {},
   "outputs": [
    {
     "name": "stdout",
     "output_type": "stream",
     "text": [
      "3 7\n"
     ]
    }
   ],
   "source": [
    "D={\"pomme\":3,\"banane\":7,\"kiwi\":1}\n",
    "print(D[\"pomme\"], D[\"banane\"])"
   ]
  },
  {
   "cell_type": "code",
   "execution_count": 58,
   "id": "382da068-c126-4e46-8e8e-629976270b18",
   "metadata": {},
   "outputs": [
    {
     "data": {
      "text/plain": [
       "11"
      ]
     },
     "execution_count": 58,
     "metadata": {},
     "output_type": "execute_result"
    }
   ],
   "source": [
    "sum(D.values())"
   ]
  },
  {
   "cell_type": "code",
   "execution_count": 59,
   "id": "d00536a5-48c5-4326-9dd6-d5a2c71dc766",
   "metadata": {},
   "outputs": [
    {
     "data": {
      "text/plain": [
       "187.63"
      ]
     },
     "execution_count": 59,
     "metadata": {},
     "output_type": "execute_result"
    }
   ],
   "source": [
    "round(187.6325,2)"
   ]
  },
  {
   "cell_type": "code",
   "execution_count": 61,
   "id": "f7654da7-3ea8-4be1-b0de-dc4b55b394ef",
   "metadata": {},
   "outputs": [
    {
     "name": "stdout",
     "output_type": "stream",
     "text": [
      "Je m'appelle Ln et j'ai 48 ans. J'apprends le langage Python\n"
     ]
    }
   ],
   "source": [
    "monNom = \"Ln\"\n",
    "age = \"48\"\n",
    "langage = \"Python\"\n",
    "print(\"Je m'appelle \"+monNom+\" et j'ai \"+age+\" ans. J'apprends le langage \"+langage)"
   ]
  },
  {
   "cell_type": "code",
   "execution_count": 63,
   "id": "ee76b8f4-4231-4b10-a3e3-aeb8a8c8aec6",
   "metadata": {},
   "outputs": [
    {
     "name": "stdout",
     "output_type": "stream",
     "text": [
      "8 x 0 = 0\n",
      "8 x 1 = 8\n",
      "8 x 2 = 16\n",
      "8 x 3 = 24\n",
      "8 x 4 = 32\n",
      "8 x 5 = 40\n",
      "8 x 6 = 48\n",
      "8 x 7 = 56\n",
      "8 x 8 = 64\n",
      "8 x 9 = 72\n",
      "8 x 10 = 80\n"
     ]
    }
   ],
   "source": [
    "for i in range(0,11):\n",
    "    print(\"8 x \"+str(i)+\" = \"+str(i*8))"
   ]
  },
  {
   "cell_type": "code",
   "execution_count": 64,
   "id": "0c0abc7a-f4c8-4a2d-85e5-e5c5a3cf29c2",
   "metadata": {},
   "outputs": [
    {
     "name": "stdout",
     "output_type": "stream",
     "text": [
      "C:\\Users\\LnD\\Desktop\\Projets info\\Python\\ExoLaurentineMasson\n"
     ]
    }
   ],
   "source": [
    "import os\n",
    "print(os.getcwd())"
   ]
  },
  {
   "cell_type": "code",
   "execution_count": 68,
   "id": "e985c529-980a-4f6c-83b7-946bdecb5463",
   "metadata": {},
   "outputs": [
    {
     "name": "stdout",
     "output_type": "stream",
     "text": [
      "[2, 3, 4, 5]\n"
     ]
    }
   ],
   "source": [
    "L=[1,2,3,4,5]\n",
    "L.remove(1)\n",
    "print(L)"
   ]
  },
  {
   "cell_type": "code",
   "execution_count": 74,
   "id": "9fc0ef38-b8ac-41ef-ad29-8bac5de2d840",
   "metadata": {},
   "outputs": [
    {
     "name": "stdout",
     "output_type": "stream",
     "text": [
      "ipynb\n"
     ]
    }
   ],
   "source": [
    "fichier = 'lab/tree/Desktop/Projets%20info/Python/ExoLaurentineMasson/ExoDebutant.ipynb'\n",
    "fichier = fichier.split(\".\")\n",
    "print(fichier[-1])\n"
   ]
  },
  {
   "cell_type": "code",
   "execution_count": 76,
   "id": "158f6f93-b3df-4cbf-bd75-acb3806506f6",
   "metadata": {},
   "outputs": [
    {
     "name": "stdout",
     "output_type": "stream",
     "text": [
      "8 x 0 = 0\n",
      "8 x 1 = 8\n",
      "8 x 2 = 16\n",
      "8 x 3 = 24\n",
      "8 x 4 = 32\n",
      "8 x 5 = 40\n",
      "8 x 6 = 48\n",
      "8 x 7 = 56\n",
      "8 x 8 = 64\n",
      "8 x 9 = 72\n",
      "8 x 10 = 80\n",
      "tps exécution :  0.0009999275207519531\n"
     ]
    }
   ],
   "source": [
    "import time\n",
    "debut = time.time()\n",
    "for i in range(0,11):\n",
    "    print(\"8 x \"+str(i)+\" = \"+str(i*8))\n",
    "fin = time.time()\n",
    "print(\"tps exécution : \",fin-debut)"
   ]
  },
  {
   "cell_type": "code",
   "execution_count": 77,
   "id": "8f43020c-f6c9-4a9f-a4de-9b6274294670",
   "metadata": {},
   "outputs": [
    {
     "name": "stdout",
     "output_type": "stream",
     "text": [
      "['ch', 6, 3, 7, 8, 's', 'd', 2]\n"
     ]
    }
   ],
   "source": [
    "import random\n",
    "\n",
    "L=[3,6,8,7,2,\"s\",\"ch\",\"d\"]\n",
    "random.shuffle(L)\n",
    "print(L)"
   ]
  },
  {
   "cell_type": "code",
   "execution_count": 80,
   "id": "6a865fa5-edc8-4d83-9a6d-8d7d82ba0f02",
   "metadata": {},
   "outputs": [
    {
     "name": "stdout",
     "output_type": "stream",
     "text": [
      "26.30352029553502\n"
     ]
    }
   ],
   "source": [
    "import random\n",
    "\n",
    "al=random.random()*10+20\n",
    "print(al)"
   ]
  },
  {
   "cell_type": "code",
   "execution_count": 90,
   "id": "781dda17-ccb3-4d55-bab9-be3726445164",
   "metadata": {},
   "outputs": [
    {
     "name": "stdout",
     "output_type": "stream",
     "text": [
      "5 6 7 8 9 10 11 12 13 14 15 16 17 18 19 20 \n",
      "5 6 7 8 9 10 11 12 13 14 15 16 17 18 19 20 \n",
      "5 6 7 8 9 10 11 12 13 14 15 16 17 18 19 20 \n",
      "5 6 7 8 9 10 11 12 13 14 15 16 17 18 19 20 \n",
      "5 6 7 8 9 10 11 12 13 14 15 16 17 18 19 20 \n",
      "5 6 7 8 9 10 11 12 13 14 15 16 17 18 19 20 \n",
      "5 6 7 8 9 10 11 12 13 14 15 16 17 18 19 20 \n",
      "5 6 7 8 9 10 11 12 13 14 15 16 17 18 19 20 \n"
     ]
    }
   ],
   "source": [
    "for i in range(8):\n",
    "    for j in range(5,21):\n",
    "        print(j, end = \" \")\n",
    "    print()\n"
   ]
  },
  {
   "cell_type": "code",
   "execution_count": null,
   "id": "2ae59dd7-8359-48cd-9ca5-9a89c745a678",
   "metadata": {},
   "outputs": [],
   "source": []
  }
 ],
 "metadata": {
  "kernelspec": {
   "display_name": "Python 3 (ipykernel)",
   "language": "python",
   "name": "python3"
  },
  "language_info": {
   "codemirror_mode": {
    "name": "ipython",
    "version": 3
   },
   "file_extension": ".py",
   "mimetype": "text/x-python",
   "name": "python",
   "nbconvert_exporter": "python",
   "pygments_lexer": "ipython3",
   "version": "3.10.9"
  }
 },
 "nbformat": 4,
 "nbformat_minor": 5
}
