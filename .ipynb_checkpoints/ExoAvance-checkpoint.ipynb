{
 "cells": [
  {
   "cell_type": "code",
   "execution_count": null,
   "id": "b805b4c3-0e5e-4279-a0e1-f5c1c7b0012b",
   "metadata": {},
   "outputs": [],
   "source": [
    "def isdigit(chaine):\n",
    "    chaine=chaine.split()\n",
    "    for i in range(len(chaine)):\n",
    "        if isdigit(chaine[i]):\n",
    "            return True\n",
    "        else:\n",
    "            return False\n",
    "isdigit(\"12554\")"
   ]
  },
  {
   "cell_type": "code",
   "execution_count": 2,
   "id": "2c652a5f-5928-40c8-8121-c9cb5abefc37",
   "metadata": {},
   "outputs": [
    {
     "data": {
      "text/plain": [
       "True"
      ]
     },
     "execution_count": 2,
     "metadata": {},
     "output_type": "execute_result"
    }
   ],
   "source": [
    "def palindrome(nbr):\n",
    "    result=True\n",
    "    if nbr<=10:\n",
    "        result=False\n",
    "    str_nbr=str(nbr)\n",
    "    for i in range(len(str_nbr)-1):\n",
    "        if str_nbr[i]!=str_nbr[len(str_nbr)-i-1]:\n",
    "            result=False\n",
    "    return result\n",
    "palindrome(101)"
   ]
  },
  {
   "cell_type": "code",
   "execution_count": 4,
   "id": "d11892d9-ec23-4ef0-acbc-52e1d1961056",
   "metadata": {},
   "outputs": [
    {
     "name": "stdout",
     "output_type": "stream",
     "text": [
      "906609\n"
     ]
    }
   ],
   "source": [
    "result=[]\n",
    "for i in range(100,1000):\n",
    "    for j in range(100,1000):\n",
    "        if palindrome(i*j):\n",
    "            result.append((i*j))\n",
    "print(max(result))"
   ]
  },
  {
   "cell_type": "code",
   "execution_count": 19,
   "id": "2f96bc0e-2ba4-4e6f-a019-c5a58e590a2e",
   "metadata": {},
   "outputs": [
    {
     "name": "stdout",
     "output_type": "stream",
     "text": [
      "False\n"
     ]
    }
   ],
   "source": [
    "def estPremier(nbr):\n",
    "    for i in range(2,nbr-1):\n",
    "        if nbr%i==0:\n",
    "            return False\n",
    "        else:\n",
    "            return True\n",
    "def circulPremier(nbr):\n",
    "    str_nbr=str(nbr)\n",
    "    result=True\n",
    "    result=estPremier(nbr)\n",
    "    for i in range(len(str_nbr)):\n",
    "        test=int(str_nbr[i:]+str_nbr[:i])\n",
    "        if not estPremier(test):\n",
    "            result=False\n",
    "    print(result)\n",
    "circulPremier(36)"
   ]
  },
  {
   "cell_type": "code",
   "execution_count": null,
   "id": "4d635bee-8301-4524-b109-fba5e5f87ae5",
   "metadata": {},
   "outputs": [],
   "source": []
  }
 ],
 "metadata": {
  "kernelspec": {
   "display_name": "Python 3 (ipykernel)",
   "language": "python",
   "name": "python3"
  },
  "language_info": {
   "codemirror_mode": {
    "name": "ipython",
    "version": 3
   },
   "file_extension": ".py",
   "mimetype": "text/x-python",
   "name": "python",
   "nbconvert_exporter": "python",
   "pygments_lexer": "ipython3",
   "version": "3.10.9"
  }
 },
 "nbformat": 4,
 "nbformat_minor": 5
}
