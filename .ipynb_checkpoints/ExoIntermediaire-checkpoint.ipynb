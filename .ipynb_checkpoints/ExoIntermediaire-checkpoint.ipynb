{
 "cells": [
  {
   "cell_type": "code",
   "execution_count": 2,
   "id": "6892b3e5-94a0-466f-a3f8-c2c2ed85c6c6",
   "metadata": {},
   "outputs": [
    {
     "data": {
      "text/plain": [
       "9"
      ]
     },
     "execution_count": 2,
     "metadata": {},
     "output_type": "execute_result"
    }
   ],
   "source": [
    "def f(a,b,x):\n",
    "    return a*(x**3)+2*a*(x**2)+b\n",
    "\n",
    "f(3,0,1)"
   ]
  },
  {
   "cell_type": "code",
   "execution_count": 3,
   "id": "a67106b7-9c39-4ddd-8cdf-bd902778d4c1",
   "metadata": {},
   "outputs": [
    {
     "data": {
      "text/plain": [
       "True"
      ]
     },
     "execution_count": 3,
     "metadata": {},
     "output_type": "execute_result"
    }
   ],
   "source": [
    "def verifPresence(a,L):\n",
    "    if a in L:\n",
    "        return True\n",
    "    else:\n",
    "        return False\n",
    "    \n",
    "verifPresence(2,[1,2,3,4,5,6])"
   ]
  },
  {
   "cell_type": "code",
   "execution_count": 4,
   "id": "24cc129d-2800-4211-aa3c-d20e4011a32d",
   "metadata": {},
   "outputs": [
    {
     "data": {
      "text/plain": [
       "False"
      ]
     },
     "execution_count": 4,
     "metadata": {},
     "output_type": "execute_result"
    }
   ],
   "source": [
    "verifPresence(-1,[3,6,9,7,\"abcr\"])"
   ]
  },
  {
   "cell_type": "code",
   "execution_count": 12,
   "id": "18407abc-8a14-4300-adc3-5600393c726f",
   "metadata": {},
   "outputs": [
    {
     "data": {
      "text/plain": [
       "14"
      ]
     },
     "execution_count": 12,
     "metadata": {},
     "output_type": "execute_result"
    }
   ],
   "source": [
    "def sumChiffres(a):\n",
    "    a=str(a)\n",
    "    sum=0\n",
    "    for i in a:\n",
    "        sum+=int(i)\n",
    "    return sum\n",
    "\n",
    "sumChiffres(149)"
   ]
  },
  {
   "cell_type": "code",
   "execution_count": 13,
   "id": "760b7033-a848-439f-a340-fe7af71752fb",
   "metadata": {},
   "outputs": [
    {
     "data": {
      "text/plain": [
       "12"
      ]
     },
     "execution_count": 13,
     "metadata": {},
     "output_type": "execute_result"
    }
   ],
   "source": [
    "sumChiffres(3018)"
   ]
  },
  {
   "cell_type": "code",
   "execution_count": 14,
   "id": "8965ec47-cf9c-4c71-a370-ed616a7f8e52",
   "metadata": {},
   "outputs": [
    {
     "data": {
      "text/plain": [
       "24"
      ]
     },
     "execution_count": 14,
     "metadata": {},
     "output_type": "execute_result"
    }
   ],
   "source": [
    "def calculSomme(L):\n",
    "    sum=0\n",
    "    for i in L:\n",
    "        sum+=int(i)\n",
    "    return sum\n",
    "calculSomme([3,2,6,9,-1,5])"
   ]
  },
  {
   "cell_type": "code",
   "execution_count": 19,
   "id": "b704091c-276f-420f-b490-04fc7d665901",
   "metadata": {},
   "outputs": [
    {
     "name": "stdout",
     "output_type": "stream",
     "text": [
      "[-1, 0, 1, 3, 5, 7]\n"
     ]
    }
   ],
   "source": [
    "def supprimerDoublons(L):\n",
    "    for i in L:\n",
    "        if L.count(i) > 1:\n",
    "            L.remove(i)\n",
    "    L.sort()\n",
    "    print(L)\n",
    "    \n",
    "supprimerDoublons([0,3,5,7,3,5,1,-1])"
   ]
  },
  {
   "cell_type": "code",
   "execution_count": 21,
   "id": "deeb9736-3b9b-411d-9a7d-85eaf46ed155",
   "metadata": {},
   "outputs": [
    {
     "name": "stdout",
     "output_type": "stream",
     "text": [
      "{'julien': '14', 'laurent': 31, 'baptiste': 29}\n"
     ]
    }
   ],
   "source": [
    "def ajoutElementDico(cle,valeur,d):\n",
    "    d[cle]=valeur\n",
    "    print(d)\n",
    "    \n",
    "ajoutElementDico(\"baptiste\",29,{\"julien\":\"14\",\"laurent\":31})"
   ]
  },
  {
   "cell_type": "code",
   "execution_count": 22,
   "id": "8d66e9cf-0631-4267-890c-a7f92b856cff",
   "metadata": {},
   "outputs": [
    {
     "data": {
      "text/plain": [
       "4"
      ]
     },
     "execution_count": 22,
     "metadata": {},
     "output_type": "execute_result"
    }
   ],
   "source": [
    "def maximum(L):\n",
    "    max=0\n",
    "    for i in L:\n",
    "        if i>max:\n",
    "            max=i\n",
    "    return max\n",
    "\n",
    "maximum([-9,2,4,1])"
   ]
  },
  {
   "cell_type": "code",
   "execution_count": null,
   "id": "b0cb3ad3-c5bd-417a-b2aa-01174716ed4b",
   "metadata": {},
   "outputs": [],
   "source": []
  }
 ],
 "metadata": {
  "kernelspec": {
   "display_name": "Python 3 (ipykernel)",
   "language": "python",
   "name": "python3"
  },
  "language_info": {
   "codemirror_mode": {
    "name": "ipython",
    "version": 3
   },
   "file_extension": ".py",
   "mimetype": "text/x-python",
   "name": "python",
   "nbconvert_exporter": "python",
   "pygments_lexer": "ipython3",
   "version": "3.10.9"
  }
 },
 "nbformat": 4,
 "nbformat_minor": 5
}
