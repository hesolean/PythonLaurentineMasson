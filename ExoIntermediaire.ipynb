{
 "cells": [
  {
   "cell_type": "code",
   "execution_count": 2,
   "id": "6892b3e5-94a0-466f-a3f8-c2c2ed85c6c6",
   "metadata": {},
   "outputs": [
    {
     "data": {
      "text/plain": [
       "9"
      ]
     },
     "execution_count": 2,
     "metadata": {},
     "output_type": "execute_result"
    }
   ],
   "source": [
    "def f(a,b,x):\n",
    "    return a*(x**3)+2*a*(x**2)+b\n",
    "\n",
    "f(3,0,1)"
   ]
  },
  {
   "cell_type": "code",
   "execution_count": 3,
   "id": "a67106b7-9c39-4ddd-8cdf-bd902778d4c1",
   "metadata": {},
   "outputs": [
    {
     "data": {
      "text/plain": [
       "True"
      ]
     },
     "execution_count": 3,
     "metadata": {},
     "output_type": "execute_result"
    }
   ],
   "source": [
    "def verifPresence(a,L):\n",
    "    if a in L:\n",
    "        return True\n",
    "    else:\n",
    "        return False\n",
    "    \n",
    "verifPresence(2,[1,2,3,4,5,6])"
   ]
  },
  {
   "cell_type": "code",
   "execution_count": 4,
   "id": "24cc129d-2800-4211-aa3c-d20e4011a32d",
   "metadata": {},
   "outputs": [
    {
     "data": {
      "text/plain": [
       "False"
      ]
     },
     "execution_count": 4,
     "metadata": {},
     "output_type": "execute_result"
    }
   ],
   "source": [
    "verifPresence(-1,[3,6,9,7,\"abcr\"])"
   ]
  },
  {
   "cell_type": "code",
   "execution_count": 12,
   "id": "18407abc-8a14-4300-adc3-5600393c726f",
   "metadata": {},
   "outputs": [
    {
     "data": {
      "text/plain": [
       "14"
      ]
     },
     "execution_count": 12,
     "metadata": {},
     "output_type": "execute_result"
    }
   ],
   "source": [
    "def sumChiffres(a):\n",
    "    a=str(a)\n",
    "    sum=0\n",
    "    for i in a:\n",
    "        sum+=int(i)\n",
    "    return sum\n",
    "\n",
    "sumChiffres(149)"
   ]
  },
  {
   "cell_type": "code",
   "execution_count": 13,
   "id": "760b7033-a848-439f-a340-fe7af71752fb",
   "metadata": {},
   "outputs": [
    {
     "data": {
      "text/plain": [
       "12"
      ]
     },
     "execution_count": 13,
     "metadata": {},
     "output_type": "execute_result"
    }
   ],
   "source": [
    "sumChiffres(3018)"
   ]
  },
  {
   "cell_type": "code",
   "execution_count": 14,
   "id": "8965ec47-cf9c-4c71-a370-ed616a7f8e52",
   "metadata": {},
   "outputs": [
    {
     "data": {
      "text/plain": [
       "24"
      ]
     },
     "execution_count": 14,
     "metadata": {},
     "output_type": "execute_result"
    }
   ],
   "source": [
    "def calculSomme(L):\n",
    "    sum=0\n",
    "    for i in L:\n",
    "        sum+=int(i)\n",
    "    return sum\n",
    "calculSomme([3,2,6,9,-1,5])"
   ]
  },
  {
   "cell_type": "code",
   "execution_count": 19,
   "id": "b704091c-276f-420f-b490-04fc7d665901",
   "metadata": {},
   "outputs": [
    {
     "name": "stdout",
     "output_type": "stream",
     "text": [
      "[-1, 0, 1, 3, 5, 7]\n"
     ]
    }
   ],
   "source": [
    "def supprimerDoublons(L):\n",
    "    for i in L:\n",
    "        if L.count(i) > 1:\n",
    "            L.remove(i)\n",
    "    L.sort()\n",
    "    print(L)\n",
    "    \n",
    "supprimerDoublons([0,3,5,7,3,5,1,-1])"
   ]
  },
  {
   "cell_type": "code",
   "execution_count": 21,
   "id": "deeb9736-3b9b-411d-9a7d-85eaf46ed155",
   "metadata": {},
   "outputs": [
    {
     "name": "stdout",
     "output_type": "stream",
     "text": [
      "{'julien': '14', 'laurent': 31, 'baptiste': 29}\n"
     ]
    }
   ],
   "source": [
    "def ajoutElementDico(cle,valeur,d):\n",
    "    d[cle]=valeur\n",
    "    print(d)\n",
    "    \n",
    "ajoutElementDico(\"baptiste\",29,{\"julien\":\"14\",\"laurent\":31})"
   ]
  },
  {
   "cell_type": "code",
   "execution_count": 22,
   "id": "8d66e9cf-0631-4267-890c-a7f92b856cff",
   "metadata": {},
   "outputs": [
    {
     "data": {
      "text/plain": [
       "4"
      ]
     },
     "execution_count": 22,
     "metadata": {},
     "output_type": "execute_result"
    }
   ],
   "source": [
    "def maximum(L):\n",
    "    max=0\n",
    "    for i in L:\n",
    "        if i>max:\n",
    "            max=i\n",
    "    return max\n",
    "\n",
    "maximum([-9,2,4,1])"
   ]
  },
  {
   "cell_type": "code",
   "execution_count": 26,
   "id": "b0cb3ad3-c5bd-417a-b2aa-01174716ed4b",
   "metadata": {},
   "outputs": [
    {
     "data": {
      "text/plain": [
       "46"
      ]
     },
     "execution_count": 26,
     "metadata": {},
     "output_type": "execute_result"
    }
   ],
   "source": [
    "def sommeSousListe(L,i,j):\n",
    "    sum=0\n",
    "    Lij=L[i:j+1]\n",
    "    for element in Lij:\n",
    "        sum+=int(element)\n",
    "    return sum\n",
    "sommeSousListe([4,10,12,16,18],2,4)"
   ]
  },
  {
   "cell_type": "code",
   "execution_count": 32,
   "id": "563eff49-7afe-4c7b-8a90-c5fcc035b642",
   "metadata": {},
   "outputs": [
    {
     "name": "stdout",
     "output_type": "stream",
     "text": [
      "*\n",
      "**\n",
      "****\n",
      "******\n",
      "********\n",
      "**********\n"
     ]
    }
   ],
   "source": [
    "pyr=\"*\"\n",
    "print(pyr)\n",
    "pyr=\"**\"\n",
    "print(pyr)\n",
    "for i in range(0,4):\n",
    "    pyr+=\"**\"\n",
    "    print(pyr)"
   ]
  },
  {
   "cell_type": "code",
   "execution_count": 33,
   "id": "c6a8d44d-df88-40fd-8370-791bb0d47f0e",
   "metadata": {},
   "outputs": [
    {
     "data": {
      "text/plain": [
       "-9"
      ]
     },
     "execution_count": 33,
     "metadata": {},
     "output_type": "execute_result"
    }
   ],
   "source": [
    "def minimum(L):\n",
    "    min=0\n",
    "    for i in L:\n",
    "        if i<min:\n",
    "            min=i\n",
    "    return min\n",
    "minimum([-9,2,4,1,8])"
   ]
  },
  {
   "cell_type": "code",
   "execution_count": 34,
   "id": "96b92fac-269d-4b87-99bc-afc8567a744f",
   "metadata": {},
   "outputs": [
    {
     "data": {
      "text/plain": [
       "6"
      ]
     },
     "execution_count": 34,
     "metadata": {},
     "output_type": "execute_result"
    }
   ],
   "source": [
    "def longueur(L):\n",
    "    return len(L)\n",
    "longueur([3,6,7,\"abde\",[1,3,57],True])"
   ]
  },
  {
   "cell_type": "code",
   "execution_count": 35,
   "id": "22d13ce7-88ab-4218-8e9e-7d362a1474fc",
   "metadata": {},
   "outputs": [
    {
     "data": {
      "text/plain": [
       "4.0"
      ]
     },
     "execution_count": 35,
     "metadata": {},
     "output_type": "execute_result"
    }
   ],
   "source": [
    "def moyenne(L):\n",
    "    return calculSomme(L)/len(L)\n",
    "moyenne([1,2,3,4,5,6,7])"
   ]
  },
  {
   "cell_type": "code",
   "execution_count": 42,
   "id": "0cb5af27-c4df-46f6-aed4-3c5e92c07acf",
   "metadata": {},
   "outputs": [
    {
     "data": {
      "text/plain": [
       "[1, 3]"
      ]
     },
     "execution_count": 42,
     "metadata": {},
     "output_type": "execute_result"
    }
   ],
   "source": [
    "def diviseur(n):\n",
    "    liste=[]\n",
    "    for i in range(1,n+1):\n",
    "        if n%i==0:\n",
    "            liste.append(i)\n",
    "    return liste\n",
    "diviseur(3)"
   ]
  },
  {
   "cell_type": "code",
   "execution_count": 44,
   "id": "c616ecfb-7188-4a51-bbfc-7cb01dfc070c",
   "metadata": {},
   "outputs": [
    {
     "data": {
      "text/plain": [
       "True"
      ]
     },
     "execution_count": 44,
     "metadata": {},
     "output_type": "execute_result"
    }
   ],
   "source": [
    "def verifMaj(phrase):\n",
    "    if phrase.islower():\n",
    "        return False\n",
    "    else:\n",
    "        return True\n",
    "    \n",
    "verifMaj(\"Les légumes sont bons pour la santé\")\n"
   ]
  },
  {
   "cell_type": "code",
   "execution_count": 45,
   "id": "ac25b2af-45b0-4ae7-9276-ef0fc73a46c1",
   "metadata": {},
   "outputs": [
    {
     "data": {
      "text/plain": [
       "True"
      ]
     },
     "execution_count": 45,
     "metadata": {},
     "output_type": "execute_result"
    }
   ],
   "source": [
    "verifMaj(\"bonJour\")\n"
   ]
  },
  {
   "cell_type": "code",
   "execution_count": 46,
   "id": "8898f8a4-ad2f-4a21-a5e2-f2bb62020457",
   "metadata": {},
   "outputs": [
    {
     "data": {
      "text/plain": [
       "False"
      ]
     },
     "execution_count": 46,
     "metadata": {},
     "output_type": "execute_result"
    }
   ],
   "source": [
    "verifMaj(\"bonjour\")"
   ]
  },
  {
   "cell_type": "code",
   "execution_count": 48,
   "id": "ced4348e-d7f9-4456-9024-2e788e562a19",
   "metadata": {},
   "outputs": [
    {
     "data": {
      "text/plain": [
       "[1, 2, 'a', 'b', 1, 'a']"
      ]
     },
     "execution_count": 48,
     "metadata": {},
     "output_type": "execute_result"
    }
   ],
   "source": [
    "def concatListes(L1,L2,L3):\n",
    "    L=[]\n",
    "    for i in L1:\n",
    "        L.append(i)\n",
    "    for i in L2:\n",
    "        L.append(i)\n",
    "    for i in L3:\n",
    "        L.append(i)\n",
    "    return L\n",
    "concatListes([1,2],[\"a\",\"b\"],[1,\"a\"])"
   ]
  },
  {
   "cell_type": "code",
   "execution_count": 49,
   "id": "55439787-fc8e-4e72-bfdb-615fd5fddfef",
   "metadata": {},
   "outputs": [
    {
     "data": {
      "text/plain": [
       "[1, 2, 'a', 'b', 1, 'a']"
      ]
     },
     "execution_count": 49,
     "metadata": {},
     "output_type": "execute_result"
    }
   ],
   "source": [
    "def concatListes2(A,B,C):\n",
    "    L=[]\n",
    "    L=A + B + C\n",
    "    return L\n",
    "concatListes2([1,2],[\"a\",\"b\"],[1,\"a\"])"
   ]
  },
  {
   "cell_type": "code",
   "execution_count": 50,
   "id": "bd0f791d-78e4-40a9-9b9f-aad3d2a719d7",
   "metadata": {},
   "outputs": [
    {
     "data": {
      "text/plain": [
       "6"
      ]
     },
     "execution_count": 50,
     "metadata": {},
     "output_type": "execute_result"
    }
   ],
   "source": [
    "def nbrValDico(d):\n",
    "    nbr=0\n",
    "    for i in d.values():\n",
    "        nbr+=len(i)\n",
    "    return nbr\n",
    "nbrValDico({\"a\":[1,2,3],\"b\":[3,\"p\"],\"c\":[8]})"
   ]
  },
  {
   "cell_type": "code",
   "execution_count": 54,
   "id": "500d6bff-1c9a-4350-af92-5464f15e54f7",
   "metadata": {},
   "outputs": [
    {
     "data": {
      "text/plain": [
       "{'d': [1, 2, 3],\n",
       " 'e': [3, 'p'],\n",
       " 'f': [8],\n",
       " 'a': [1, 2, 3],\n",
       " 'b': [3, 'p'],\n",
       " 'c': [8]}"
      ]
     },
     "execution_count": 54,
     "metadata": {},
     "output_type": "execute_result"
    }
   ],
   "source": [
    "def concatDico(d1,d2):\n",
    "    d1.update(d2)\n",
    "    return d1\n",
    "concatDico({\"d\":[1,2,3],\"e\":[3,\"p\"],\"f\":[8]},{\"a\":[1,2,3],\"b\":[3,\"p\"],\"c\":[8]})"
   ]
  },
  {
   "cell_type": "code",
   "execution_count": 55,
   "id": "d444829b-ef65-4e4a-93cc-30efc90c6d8a",
   "metadata": {},
   "outputs": [
    {
     "data": {
      "text/plain": [
       "6"
      ]
     },
     "execution_count": 55,
     "metadata": {},
     "output_type": "execute_result"
    }
   ],
   "source": [
    "def factoNbr(n):\n",
    "    facto=1\n",
    "    for i in range(1,n+1):\n",
    "        facto*=i\n",
    "    return facto\n",
    "\n",
    "factoNbr(3)"
   ]
  },
  {
   "cell_type": "code",
   "execution_count": 58,
   "id": "bba48162-761a-44df-a514-7de9d86078e5",
   "metadata": {},
   "outputs": [
    {
     "name": "stdout",
     "output_type": "stream",
     "text": [
      "5\n",
      "15\n",
      "25\n",
      "35\n",
      "45\n",
      "55\n",
      "65\n",
      "75\n",
      "85\n",
      "95\n"
     ]
    }
   ],
   "source": [
    "def divMult(n,a,nbrSeuil):\n",
    "    for i in range(0,nbrSeuil+1):\n",
    "        if i%n==0 and i%a!=0:\n",
    "            print(i)\n",
    "divMult(5,2,100)"
   ]
  },
  {
   "cell_type": "code",
   "execution_count": 62,
   "id": "623a02f9-d61a-4c66-a0f9-da040739ec21",
   "metadata": {},
   "outputs": [
    {
     "data": {
      "text/plain": [
       "True"
      ]
     },
     "execution_count": 62,
     "metadata": {},
     "output_type": "execute_result"
    }
   ],
   "source": [
    "def presenceVoyelle(phrase):\n",
    "    v=[\"a\",\"e\",\"i\",\"o\",\"u\",\"y\"]\n",
    "    for i in v:\n",
    "        if i in phrase:\n",
    "            return True\n",
    "        else:\n",
    "            return False\n",
    "\n",
    "presenceVoyelle(\"Je vais bien\")"
   ]
  },
  {
   "cell_type": "code",
   "execution_count": 65,
   "id": "f2bbb97a-d108-4c81-b5c0-ad899b0fad69",
   "metadata": {},
   "outputs": [
    {
     "name": "stdout",
     "output_type": "stream",
     "text": [
      "Jesuisintelligente\n"
     ]
    }
   ],
   "source": [
    "def supprEspace(phrase):\n",
    "    phrase=phrase.split(\" \")\n",
    "    phrase=\"\".join(phrase)\n",
    "    print(phrase)\n",
    "supprEspace(\"Je suis intelligente\")"
   ]
  },
  {
   "cell_type": "code",
   "execution_count": 74,
   "id": "dc79b63f-cf70-45cc-bb8d-b58c6402b5ee",
   "metadata": {},
   "outputs": [
    {
     "name": "stdout",
     "output_type": "stream",
     "text": [
      "[4, 5]\n"
     ]
    }
   ],
   "source": [
    "def posEletListe(L,x):\n",
    "    index=[]\n",
    "    for i in range(0,len(L)-1):\n",
    "        if L[i]==x:\n",
    "            index.append(i)\n",
    "    if index==[]:\n",
    "        print(\"L'élément n'est pas dans la liste\")\n",
    "    else:\n",
    "        print(index)\n",
    "posEletListe([1,2,3,4,5,5,6,7,8,9],5)"
   ]
  },
  {
   "cell_type": "code",
   "execution_count": 78,
   "id": "0a2da311-79b9-495b-aacc-42cb00609f21",
   "metadata": {},
   "outputs": [
    {
     "name": "stdout",
     "output_type": "stream",
     "text": [
      "Quelle origine\n"
     ]
    }
   ],
   "source": [
    "def filtrerMots(phrase,longMin):\n",
    "    p=phrase.split(\" \")\n",
    "    newPhrase=[]\n",
    "    for i in p:\n",
    "        if len(i)>=longMin:\n",
    "            newPhrase.append(i)\n",
    "    newPhrase=\" \".join(newPhrase)\n",
    "    print(newPhrase)\n",
    "filtrerMots(\"Quelle est ton origine ?\",4)"
   ]
  },
  {
   "cell_type": "code",
   "execution_count": 89,
   "id": "c8741f49-59c2-4bd4-9a35-9906d892555f",
   "metadata": {},
   "outputs": [
    {
     "name": "stdout",
     "output_type": "stream",
     "text": [
      "['Bonjour', 'je', \"m'appelle\", 'Ln']\n",
      "['Ln', \"m'appelle\", 'je', 'Bonjour']\n",
      "Ln m'appelle je Bonjour\n"
     ]
    }
   ],
   "source": [
    "def inversePhrase(phrase):\n",
    "    phrase=phrase.split(\" \")\n",
    "    print(phrase)\n",
    "    phrase.reverse()\n",
    "    print(phrase)\n",
    "    phrase=\" \".join(phrase)\n",
    "    print(phrase)\n",
    "    \n",
    "inversePhrase(\"Bonjour je m'appelle Ln\")"
   ]
  },
  {
   "cell_type": "code",
   "execution_count": 91,
   "id": "6a605655-d10c-489b-b017-9114fa9d017b",
   "metadata": {},
   "outputs": [
    {
     "name": "stdout",
     "output_type": "stream",
     "text": [
      "[(-4, 1), (8, 2), (-3, 2), (2, 2), (1, 2), (7, 1), (9, 1)]\n"
     ]
    }
   ],
   "source": [
    "def nombreOccurence(L):\n",
    "    O=[]\n",
    "    for i in L:\n",
    "        nb=L.count(i)\n",
    "        if (i,nb) not in O:\n",
    "            O.append((i,nb))\n",
    "    print(O)\n",
    "nombreOccurence([-4,8,-3,2,1,2,7,9,-3,8,1])"
   ]
  },
  {
   "cell_type": "code",
   "execution_count": 92,
   "id": "abf302ad-f765-418d-bfbe-c8f976a246f0",
   "metadata": {},
   "outputs": [
    {
     "name": "stdout",
     "output_type": "stream",
     "text": [
      "[0, 1, 3, 6, 9, 12]\n"
     ]
    }
   ],
   "source": [
    "def unionListe(A,B,C):\n",
    "    D=A+B+C\n",
    "    for i in D:\n",
    "        while D.count(i)>1:\n",
    "            D.remove(i)\n",
    "    D.sort()\n",
    "    print(D)\n",
    "unionListe([3,6,9,3],[1,0,3],[12,6,3])"
   ]
  },
  {
   "cell_type": "code",
   "execution_count": 97,
   "id": "27bf7def-95ec-4646-80ce-032b76d1c354",
   "metadata": {},
   "outputs": [
    {
     "data": {
      "text/plain": [
       "1"
      ]
     },
     "execution_count": 97,
     "metadata": {},
     "output_type": "execute_result"
    }
   ],
   "source": [
    "def calculPGCD(a,b):\n",
    "    assert(a>0 and b>0)\n",
    "    while b!=0:\n",
    "        a,b=b,a%b\n",
    "    return a\n",
    "calculPGCD(3,5)"
   ]
  },
  {
   "cell_type": "code",
   "execution_count": 103,
   "id": "0c0fe581-6547-4f85-bd8f-638fa114835a",
   "metadata": {},
   "outputs": [
    {
     "data": {
      "text/plain": [
       "'essai Exo 61'"
      ]
     },
     "execution_count": 103,
     "metadata": {},
     "output_type": "execute_result"
    }
   ],
   "source": [
    "def lireFichier(cheminFichier):\n",
    "    fichier=open(cheminFichier,'r')\n",
    "    contenu=fichier.read()\n",
    "    fichier.close()\n",
    "    return contenu\n",
    "    \n",
    "lireFichier(r'C:\\Users\\LnD\\Desktop\\Projets info\\Python\\ExoLaurentineMasson\\essai Exo 61.txt')"
   ]
  },
  {
   "cell_type": "code",
   "execution_count": 105,
   "id": "d2a206cd-bcdd-47c0-96ab-dc706628472d",
   "metadata": {},
   "outputs": [
    {
     "data": {
      "text/plain": [
       "1"
      ]
     },
     "execution_count": 105,
     "metadata": {},
     "output_type": "execute_result"
    }
   ],
   "source": [
    "def nbOccFichier(cheminFichier,mot):\n",
    "    contenu=lireFichier(cheminFichier)\n",
    "    n=contenu.count(mot)\n",
    "    return n\n",
    "nbOccFichier(r'C:\\Users\\LnD\\Desktop\\Projets info\\Python\\ExoLaurentineMasson\\essai Exo 61.txt',\"essai\")"
   ]
  },
  {
   "cell_type": "code",
   "execution_count": 113,
   "id": "54b8e594-29c6-4504-96ae-9c9893467093",
   "metadata": {},
   "outputs": [
    {
     "data": {
      "text/plain": [
       "'essai ex 61'"
      ]
     },
     "execution_count": 113,
     "metadata": {},
     "output_type": "execute_result"
    }
   ],
   "source": [
    "def supprCarac(cheminFichier,carac):\n",
    "    with open(cheminFichier,'r') as fichier:\n",
    "        contenu=fichier.read()\n",
    "        \n",
    "    nouveauContenu=contenu.replace(carac,\"\")\n",
    "    \n",
    "    with open(cheminFichier,'w') as fichier:\n",
    "        fichier.write(nouveauContenu)\n",
    "    \n",
    "    with open(cheminFichier,'r') as fichier:\n",
    "        contenu=fichier.read()\n",
    "    \n",
    "    return contenu\n",
    "supprCarac(r'C:\\Users\\LnD\\Desktop\\Projets info\\Python\\ExoLaurentineMasson\\essai Exo 61.txt',\"o\")"
   ]
  },
  {
   "cell_type": "code",
   "execution_count": 127,
   "id": "64df78ae-7459-421c-9fc5-0d1c1d8ef58f",
   "metadata": {},
   "outputs": [],
   "source": [
    "def presenceNbr(cheminFichier):\n",
    "    with open(cheminFichier,'r') as fichier:\n",
    "        contenu=fichier.read()\n",
    "    for i in contenu:\n",
    "        if i in [1,2,3,4,5,6,7,8,9,0]:\n",
    "            return True\n",
    "        \n",
    "presenceNbr(r'C:\\Users\\LnD\\Desktop\\Projets info\\Python\\ExoLaurentineMasson\\essai Exo 61.txt')"
   ]
  },
  {
   "cell_type": "code",
   "execution_count": 128,
   "id": "59e9c4aa-4748-463c-9fd0-f91dff4a4041",
   "metadata": {},
   "outputs": [
    {
     "name": "stdout",
     "output_type": "stream",
     "text": [
      "3\n"
     ]
    }
   ],
   "source": [
    "def nbFichier(cheminDossier):\n",
    "    import os\n",
    "    n=0\n",
    "    list=os.listdir(cheminDossier)\n",
    "    for contenu in list:\n",
    "        if os.path.isfile(os.path.join(cheminDossier,contenu)):\n",
    "            n+=1\n",
    "    print(n)\n",
    "nbFichier(r'C:\\Users\\LnD\\Desktop\\Projets info\\Python\\ExoLaurentineMasson')"
   ]
  },
  {
   "cell_type": "code",
   "execution_count": 130,
   "id": "6d4b2109-4687-41b5-987d-eb58641011ca",
   "metadata": {},
   "outputs": [
    {
     "data": {
      "text/plain": [
       "'Je change de texte'"
      ]
     },
     "execution_count": 130,
     "metadata": {},
     "output_type": "execute_result"
    }
   ],
   "source": [
    "def ecrireDsFichier(cheminFichier,texte):\n",
    "    with open(cheminFichier,'w') as fichier:\n",
    "        fichier.write(texte)\n",
    "    \n",
    "    with open(cheminFichier,'r') as fichier:\n",
    "        contenu=fichier.read()\n",
    "    \n",
    "    return contenu\n",
    "ecrireDsFichier(r'C:\\Users\\LnD\\Desktop\\Projets info\\Python\\ExoLaurentineMasson\\essai Exo 61.txt',\"Je change de texte\")"
   ]
  },
  {
   "cell_type": "code",
   "execution_count": 137,
   "id": "475f96e1-6460-4845-90ff-260cf49555a5",
   "metadata": {},
   "outputs": [
    {
     "data": {
      "text/plain": [
       "'a'"
      ]
     },
     "execution_count": 137,
     "metadata": {},
     "output_type": "execute_result"
    }
   ],
   "source": [
    "def cleMaxValDict(d):\n",
    "    cleVal=[]\n",
    "#     récupère la liste des clés du dico\n",
    "    cles=list(d.keys())\n",
    "#     balaye la liste de clés\n",
    "    for cle in cles:\n",
    "#         je compte le nombre de valeurs unique avec len car j'utilise set qui est sans doublons\n",
    "        unicVal=len(set(d[cle]))\n",
    "#     j'ajoute le couple clé du dico/nb valeurs uniques de la liste associée à la clé du dico\n",
    "        cleVal.append((cle,unicVal))\n",
    "#     je classe dans l'ordre croissant la liste des tuples sur la 2è valeur de chaque tuple\n",
    "    cleVal.sort(key=lambda x:x[1])\n",
    "#     je récupère le dernier tuple de la liste et le 1er élément du tuple\n",
    "    cleMax=cleVal[-1][0]\n",
    "    return cleMax\n",
    "cleMaxValDict({\"a\":[9,10,9,7,3,1],\"b\":[5,3,2,2,2],\"c\":[1,1,1,1,1,1,8,2]})"
   ]
  },
  {
   "cell_type": "code",
   "execution_count": 1,
   "id": "e22f9cc1-cd25-4625-838f-b815af03f8fb",
   "metadata": {},
   "outputs": [
    {
     "name": "stdin",
     "output_type": "stream",
     "text": [
      "Combien de valeurs voulez vous enregistrer ? 3\n",
      "Entrer un entier : 2\n",
      "Entrer un entier : 5\n",
      "Entrer un entier : 4\n"
     ]
    },
    {
     "name": "stdout",
     "output_type": "stream",
     "text": [
      "[2, 5, 4]\n"
     ]
    }
   ],
   "source": [
    "liste_utilisateur = []\n",
    "\n",
    "nbr_element = int(input(\"Combien de valeurs voulez vous enregistrer ?\"))\n",
    "for i in range(nbr_element):\n",
    "    elt = int(input('Entrer un entier :'))\n",
    "    liste_utilisateur.append(elt)\n",
    "print(liste_utilisateur)"
   ]
  },
  {
   "cell_type": "code",
   "execution_count": 5,
   "id": "f0f3d7c7-4f7b-4d16-b589-84acbc64a28a",
   "metadata": {},
   "outputs": [
    {
     "data": {
      "text/plain": [
       "(29, 696)"
      ]
     },
     "execution_count": 5,
     "metadata": {},
     "output_type": "execute_result"
    }
   ],
   "source": [
    "def nbJourHeure(dateDebut,dateFin):\n",
    "    from datetime import datetime\n",
    "    formatDate = \"%Y/%m/%d\"\n",
    "    dateDebutFormat = datetime.strptime(dateDebut, formatDate)\n",
    "    dateFinFormat = datetime.strptime(dateFin, formatDate)\n",
    "    jours = (dateFinFormat - dateDebutFormat).days\n",
    "    heures = jours*24\n",
    "    return jours,heures\n",
    "nbJourHeure(\"2023/05/01\",\"2023/05/30\")"
   ]
  },
  {
   "cell_type": "code",
   "execution_count": 13,
   "id": "d08521df-d291-43f3-ba6e-39d36a8e7c04",
   "metadata": {},
   "outputs": [
    {
     "name": "stdout",
     "output_type": "stream",
     "text": [
      "!!\n"
     ]
    }
   ],
   "source": [
    "def genPassword(caracteres,taille):\n",
    "    import random\n",
    "    motPasse=[]\n",
    "    for i in range(taille):\n",
    "        rand_index = random.choice(caracteres)\n",
    "        motPasse.append(rand_index)\n",
    "    motPasse=\"\".join(motPasse)\n",
    "    print(motPasse)\n",
    "genPassword([\"a\",\"@\",\"!\"],2)"
   ]
  },
  {
   "cell_type": "code",
   "execution_count": 16,
   "id": "05381bbf-bc4c-4882-bb65-383e05453b84",
   "metadata": {},
   "outputs": [
    {
     "name": "stdout",
     "output_type": "stream",
     "text": [
      "9.207106781186548\n"
     ]
    }
   ],
   "source": [
    "  import math\n",
    "    \n",
    "def trigo(x):\n",
    "    cos = math.cos(x)\n",
    "    sin = math.sin(x)\n",
    "    resultat = cos*sin+sin+8\n",
    "    print(resultat)\n",
    "trigo(math.pi/4)"
   ]
  },
  {
   "cell_type": "code",
   "execution_count": 18,
   "id": "5f0a78af-aa4b-41e3-a4bf-e30429eadebc",
   "metadata": {},
   "outputs": [
    {
     "name": "stdout",
     "output_type": "stream",
     "text": [
      "[100, 101, 102, 103, 104, 105, 106, 107, 108, 109, 110, 120, 123, 130, 132, 138, 140, 145, 150, 154, 159, 160, 167, 170, 176, 180, 183, 189, 190, 195, 198, 200, 201, 202, 203, 204, 205, 206, 207, 208, 209, 210, 213, 220, 224, 230, 231, 235, 240, 242, 246, 250, 253, 257, 260, 264, 268, 270, 275, 279, 280, 286, 290, 297, 300, 301, 302, 303, 304, 305, 306, 307, 308, 309, 310, 312, 318, 320, 321, 325, 330, 333, 340, 345, 347, 350, 352, 354, 357, 360, 369, 370, 374, 375, 380, 381, 390, 396, 400, 401, 402, 403, 404, 405, 406, 407, 408, 409, 410, 415, 420, 422, 426, 430, 435, 437, 440, 448, 450, 451, 453, 456, 459, 460, 462, 465, 466, 470, 473, 480, 484, 490, 495, 500, 501, 502, 503, 504, 505, 506, 507, 508, 509, 510, 514, 519, 520, 523, 527, 530, 532, 534, 537, 540, 541, 543, 546, 549, 550, 560, 564, 570, 572, 573, 578, 579, 580, 587, 590, 591, 594, 597, 600, 601, 602, 603, 604, 605, 606, 607, 608, 609, 610, 617, 620, 624, 628, 630, 639, 640, 642, 645, 646, 650, 654, 660, 664, 666, 670, 671, 678, 680, 682, 687, 690, 693, 700, 701, 702, 703, 704, 705, 706, 707, 708, 709, 710, 716, 720, 725, 729, 730, 734, 735, 740, 743, 750, 752, 753, 758, 759, 760, 761, 768, 770, 780, 785, 786, 789, 790, 792, 795, 798, 800, 801, 802, 803, 804, 805, 806, 807, 808, 809, 810, 813, 819, 820, 826, 830, 831, 840, 844, 850, 857, 860, 862, 867, 870, 875, 876, 879, 880, 890, 891, 897, 900, 901, 902, 903, 904, 905, 906, 907, 908, 909, 910, 915, 918, 920, 927, 930, 936, 940, 945, 950, 951, 954, 957, 960, 963, 970, 972, 975, 978, 980, 981, 987, 990, 999]\n"
     ]
    }
   ],
   "source": [
    "L=[]\n",
    "for i in range(100,1000):\n",
    "    str_nb=str(i)\n",
    "    add=int(str_nb[0])+int(str_nb[1])+int(str_nb[2])\n",
    "    prod=int(str_nb[0])*int(str_nb[1])*int(str_nb[2])\n",
    "    if prod%add==0:\n",
    "        L.append(i)\n",
    "print(L)"
   ]
  },
  {
   "cell_type": "code",
   "execution_count": 19,
   "id": "b1bc2e2b-3291-4d15-b8f6-0215e3edfa4d",
   "metadata": {},
   "outputs": [
    {
     "data": {
      "text/plain": [
       "24"
      ]
     },
     "execution_count": 19,
     "metadata": {},
     "output_type": "execute_result"
    }
   ],
   "source": [
    "def calculSomme(L):\n",
    "    if len(L)==0:\n",
    "        return 0\n",
    "    else:\n",
    "        return L[0]+calculSomme(L[1:])\n",
    "calculSomme([3,2,6,9,-1,5])"
   ]
  },
  {
   "cell_type": "code",
   "execution_count": 22,
   "id": "96c3a1ca-085a-4fa8-b1d7-1cbc21ea2ce2",
   "metadata": {},
   "outputs": [
    {
     "data": {
      "text/plain": [
       "75025"
      ]
     },
     "execution_count": 22,
     "metadata": {},
     "output_type": "execute_result"
    }
   ],
   "source": [
    "def suiteFibonacci(N):\n",
    "    if N==1 or N==2:\n",
    "        return 1\n",
    "    else:\n",
    "        return suiteFibonacci(N-1)+suiteFibonacci(N-2)\n",
    "suiteFibonacci(25)"
   ]
  },
  {
   "cell_type": "code",
   "execution_count": 3,
   "id": "f903992d-d4fe-4f85-98e4-1940cbec7161",
   "metadata": {},
   "outputs": [
    {
     "data": {
      "text/plain": [
       "True"
      ]
     },
     "execution_count": 3,
     "metadata": {},
     "output_type": "execute_result"
    }
   ],
   "source": [
    "def nbPair(n):\n",
    "    if n==1:\n",
    "        return False\n",
    "    else:\n",
    "        return nbImpair(n-1)\n",
    "def nbImpair(n):\n",
    "    if n==1:\n",
    "        return True\n",
    "    else:\n",
    "        return nbPair(n-1)\n",
    "nbPair(6)"
   ]
  },
  {
   "cell_type": "code",
   "execution_count": 4,
   "id": "c49b4384-7139-43f4-81c7-25288ce992ae",
   "metadata": {},
   "outputs": [
    {
     "name": "stdout",
     "output_type": "stream",
     "text": [
      "Bonjour,ca va ?\n"
     ]
    }
   ],
   "source": [
    "def join(L,caract):\n",
    "    result=caract.join(L)\n",
    "    print(result)\n",
    "join([\"Bonjour\",\"ca va ?\"],\",\")"
   ]
  },
  {
   "cell_type": "code",
   "execution_count": 6,
   "id": "580ec2e6-6ebd-4d9f-b3a3-9ee357fd8d38",
   "metadata": {},
   "outputs": [
    {
     "name": "stdout",
     "output_type": "stream",
     "text": [
      "Bonjour Ln\n"
     ]
    }
   ],
   "source": [
    "def remplacer(phrase,ancienMot,nouveauMot):\n",
    "    phrase=phrase.split()\n",
    "    for i in range(len(phrase)):\n",
    "        if phrase[i] == ancienMot:\n",
    "            phrase[i]=nouveauMot\n",
    "    phrase=\" \".join(phrase)\n",
    "    print(phrase)\n",
    "remplacer(\"Bonjour salope\",\"salope\",\"Ln\")"
   ]
  },
  {
   "cell_type": "code",
   "execution_count": 7,
   "id": "d317ce62-9b87-414d-b835-ce48480c154b",
   "metadata": {},
   "outputs": [
    {
     "name": "stdout",
     "output_type": "stream",
     "text": [
      "['Bonjour', 'Ln']\n"
     ]
    }
   ],
   "source": [
    "def split(phrase,caractere):\n",
    "    phrase=phrase.split(caractere)\n",
    "    print(phrase)\n",
    "split(\"Bonjour Ln\",\" \")"
   ]
  },
  {
   "cell_type": "code",
   "execution_count": null,
   "id": "d3496744-4f38-4e34-aa55-3692b9870004",
   "metadata": {},
   "outputs": [],
   "source": []
  }
 ],
 "metadata": {
  "kernelspec": {
   "display_name": "Python 3 (ipykernel)",
   "language": "python",
   "name": "python3"
  },
  "language_info": {
   "codemirror_mode": {
    "name": "ipython",
    "version": 3
   },
   "file_extension": ".py",
   "mimetype": "text/x-python",
   "name": "python",
   "nbconvert_exporter": "python",
   "pygments_lexer": "ipython3",
   "version": "3.10.9"
  }
 },
 "nbformat": 4,
 "nbformat_minor": 5
}
